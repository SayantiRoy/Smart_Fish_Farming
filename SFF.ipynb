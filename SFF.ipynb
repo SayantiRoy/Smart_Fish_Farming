{
  "cells": [
    {
      "cell_type": "markdown",
      "source": [
        "#Fish Prediction Projet using Unsupervised Machine Learning\n",
        "######**The purpose of our project is :** \n",
        "To help people predict the best type of fish to be cultivated in the particular habitat depending on the environmental variables.\n",
        "To help people do efficient fish farming or fish culture.\n",
        "######Major problem in fish farming is the lack of availability of good-quality stock. To overcome this problem, ways have now been worked out to breed these fish in ponds using hormonal stimulation. This has ensured the supply of pure fish stock in desired quantities.\n",
        "######**Methods:** Using Data Visualization and Data Processing, Unsupervised Algorithms and analyze the clustering of unlabeled datasets by K Means Clustering Algorithm and Hierarchical. Finally, applying Logistic Regression to real- world problems."
      ],
      "metadata": {
        "id": "9ePmIMwCIoCs"
      }
    },
    {
      "cell_type": "code",
      "source": [
        "#importing Libraries\n",
        "import numpy as np\n",
        "import pandas as pd\n",
        "\n",
        "#For Data  visualization\n",
        "import matplotlib.pyplot as plt\n",
        "import seaborn as sns\n",
        "plt.style.use('fivethirtyeight')\n",
        "\n",
        "#For interactivity\n",
        "import ipywidgets\n",
        "from ipywidgets import interact "
      ],
      "metadata": {
        "id": "2sg-3I-_yoQ7"
      },
      "execution_count": null,
      "outputs": []
    },
    {
      "cell_type": "markdown",
      "source": [
        "##Reading the Data"
      ],
      "metadata": {
        "id": "2D5cdZZAFjIO"
      }
    },
    {
      "cell_type": "code",
      "source": [
        "#Reading the dataset\n",
        "data=pd.read_csv('Fish_recommendation.csv')\n",
        "\n",
        "#Checking the shape of Data\n",
        "print(data.shape)"
      ],
      "metadata": {
        "colab": {
          "base_uri": "https://localhost:8080/"
        },
        "id": "nHnXXGTq0TrV",
        "outputId": "019c5dbe-f077-4eb3-b3a1-87c93e321f44"
      },
      "execution_count": null,
      "outputs": [
        {
          "output_type": "stream",
          "name": "stdout",
          "text": [
            "(2200, 8)\n"
          ]
        }
      ]
    },
    {
      "cell_type": "code",
      "source": [
        "data.head()"
      ],
      "metadata": {
        "colab": {
          "base_uri": "https://localhost:8080/",
          "height": 206
        },
        "id": "2hKvQiM30oM_",
        "outputId": "aedefb94-b843-436f-b5fb-36efcb785f04"
      },
      "execution_count": null,
      "outputs": [
        {
          "output_type": "execute_result",
          "data": {
            "text/plain": [
              "   Ammonia  Nitrite  Nitrate  temperature   humidity        ph    rainfall  \\\n",
              "0       60       12       13    20.879744  82.002744  6.502985  202.935536   \n",
              "1       55       28       11    21.770462  80.319644  7.038096  226.655537   \n",
              "2       30       25       14    23.004459  82.320763  7.840207  263.964248   \n",
              "3       44        5       10    26.491096  80.158363  6.980401  242.864034   \n",
              "4       48       12       12    20.130175  81.604873  7.628473  262.717340   \n",
              "\n",
              "        label  \n",
              "0  Archerfish  \n",
              "1  Archerfish  \n",
              "2  Archerfish  \n",
              "3  Archerfish  \n",
              "4  Archerfish  "
            ],
            "text/html": [
              "\n",
              "  <div id=\"df-cf3ab8e3-68ca-427a-a8eb-b198f34eb3a1\">\n",
              "    <div class=\"colab-df-container\">\n",
              "      <div>\n",
              "<style scoped>\n",
              "    .dataframe tbody tr th:only-of-type {\n",
              "        vertical-align: middle;\n",
              "    }\n",
              "\n",
              "    .dataframe tbody tr th {\n",
              "        vertical-align: top;\n",
              "    }\n",
              "\n",
              "    .dataframe thead th {\n",
              "        text-align: right;\n",
              "    }\n",
              "</style>\n",
              "<table border=\"1\" class=\"dataframe\">\n",
              "  <thead>\n",
              "    <tr style=\"text-align: right;\">\n",
              "      <th></th>\n",
              "      <th>Ammonia</th>\n",
              "      <th>Nitrite</th>\n",
              "      <th>Nitrate</th>\n",
              "      <th>temperature</th>\n",
              "      <th>humidity</th>\n",
              "      <th>ph</th>\n",
              "      <th>rainfall</th>\n",
              "      <th>label</th>\n",
              "    </tr>\n",
              "  </thead>\n",
              "  <tbody>\n",
              "    <tr>\n",
              "      <th>0</th>\n",
              "      <td>60</td>\n",
              "      <td>12</td>\n",
              "      <td>13</td>\n",
              "      <td>20.879744</td>\n",
              "      <td>82.002744</td>\n",
              "      <td>6.502985</td>\n",
              "      <td>202.935536</td>\n",
              "      <td>Archerfish</td>\n",
              "    </tr>\n",
              "    <tr>\n",
              "      <th>1</th>\n",
              "      <td>55</td>\n",
              "      <td>28</td>\n",
              "      <td>11</td>\n",
              "      <td>21.770462</td>\n",
              "      <td>80.319644</td>\n",
              "      <td>7.038096</td>\n",
              "      <td>226.655537</td>\n",
              "      <td>Archerfish</td>\n",
              "    </tr>\n",
              "    <tr>\n",
              "      <th>2</th>\n",
              "      <td>30</td>\n",
              "      <td>25</td>\n",
              "      <td>14</td>\n",
              "      <td>23.004459</td>\n",
              "      <td>82.320763</td>\n",
              "      <td>7.840207</td>\n",
              "      <td>263.964248</td>\n",
              "      <td>Archerfish</td>\n",
              "    </tr>\n",
              "    <tr>\n",
              "      <th>3</th>\n",
              "      <td>44</td>\n",
              "      <td>5</td>\n",
              "      <td>10</td>\n",
              "      <td>26.491096</td>\n",
              "      <td>80.158363</td>\n",
              "      <td>6.980401</td>\n",
              "      <td>242.864034</td>\n",
              "      <td>Archerfish</td>\n",
              "    </tr>\n",
              "    <tr>\n",
              "      <th>4</th>\n",
              "      <td>48</td>\n",
              "      <td>12</td>\n",
              "      <td>12</td>\n",
              "      <td>20.130175</td>\n",
              "      <td>81.604873</td>\n",
              "      <td>7.628473</td>\n",
              "      <td>262.717340</td>\n",
              "      <td>Archerfish</td>\n",
              "    </tr>\n",
              "  </tbody>\n",
              "</table>\n",
              "</div>\n",
              "      <button class=\"colab-df-convert\" onclick=\"convertToInteractive('df-cf3ab8e3-68ca-427a-a8eb-b198f34eb3a1')\"\n",
              "              title=\"Convert this dataframe to an interactive table.\"\n",
              "              style=\"display:none;\">\n",
              "        \n",
              "  <svg xmlns=\"http://www.w3.org/2000/svg\" height=\"24px\"viewBox=\"0 0 24 24\"\n",
              "       width=\"24px\">\n",
              "    <path d=\"M0 0h24v24H0V0z\" fill=\"none\"/>\n",
              "    <path d=\"M18.56 5.44l.94 2.06.94-2.06 2.06-.94-2.06-.94-.94-2.06-.94 2.06-2.06.94zm-11 1L8.5 8.5l.94-2.06 2.06-.94-2.06-.94L8.5 2.5l-.94 2.06-2.06.94zm10 10l.94 2.06.94-2.06 2.06-.94-2.06-.94-.94-2.06-.94 2.06-2.06.94z\"/><path d=\"M17.41 7.96l-1.37-1.37c-.4-.4-.92-.59-1.43-.59-.52 0-1.04.2-1.43.59L10.3 9.45l-7.72 7.72c-.78.78-.78 2.05 0 2.83L4 21.41c.39.39.9.59 1.41.59.51 0 1.02-.2 1.41-.59l7.78-7.78 2.81-2.81c.8-.78.8-2.07 0-2.86zM5.41 20L4 18.59l7.72-7.72 1.47 1.35L5.41 20z\"/>\n",
              "  </svg>\n",
              "      </button>\n",
              "      \n",
              "  <style>\n",
              "    .colab-df-container {\n",
              "      display:flex;\n",
              "      flex-wrap:wrap;\n",
              "      gap: 12px;\n",
              "    }\n",
              "\n",
              "    .colab-df-convert {\n",
              "      background-color: #E8F0FE;\n",
              "      border: none;\n",
              "      border-radius: 50%;\n",
              "      cursor: pointer;\n",
              "      display: none;\n",
              "      fill: #1967D2;\n",
              "      height: 32px;\n",
              "      padding: 0 0 0 0;\n",
              "      width: 32px;\n",
              "    }\n",
              "\n",
              "    .colab-df-convert:hover {\n",
              "      background-color: #E2EBFA;\n",
              "      box-shadow: 0px 1px 2px rgba(60, 64, 67, 0.3), 0px 1px 3px 1px rgba(60, 64, 67, 0.15);\n",
              "      fill: #174EA6;\n",
              "    }\n",
              "\n",
              "    [theme=dark] .colab-df-convert {\n",
              "      background-color: #3B4455;\n",
              "      fill: #D2E3FC;\n",
              "    }\n",
              "\n",
              "    [theme=dark] .colab-df-convert:hover {\n",
              "      background-color: #434B5C;\n",
              "      box-shadow: 0px 1px 3px 1px rgba(0, 0, 0, 0.15);\n",
              "      filter: drop-shadow(0px 1px 2px rgba(0, 0, 0, 0.3));\n",
              "      fill: #FFFFFF;\n",
              "    }\n",
              "  </style>\n",
              "\n",
              "      <script>\n",
              "        const buttonEl =\n",
              "          document.querySelector('#df-cf3ab8e3-68ca-427a-a8eb-b198f34eb3a1 button.colab-df-convert');\n",
              "        buttonEl.style.display =\n",
              "          google.colab.kernel.accessAllowed ? 'block' : 'none';\n",
              "\n",
              "        async function convertToInteractive(key) {\n",
              "          const element = document.querySelector('#df-cf3ab8e3-68ca-427a-a8eb-b198f34eb3a1');\n",
              "          const dataTable =\n",
              "            await google.colab.kernel.invokeFunction('convertToInteractive',\n",
              "                                                     [key], {});\n",
              "          if (!dataTable) return;\n",
              "\n",
              "          const docLinkHtml = 'Like what you see? Visit the ' +\n",
              "            '<a target=\"_blank\" href=https://colab.research.google.com/notebooks/data_table.ipynb>data table notebook</a>'\n",
              "            + ' to learn more about interactive tables.';\n",
              "          element.innerHTML = '';\n",
              "          dataTable['output_type'] = 'display_data';\n",
              "          await google.colab.output.renderOutput(dataTable, element);\n",
              "          const docLink = document.createElement('div');\n",
              "          docLink.innerHTML = docLinkHtml;\n",
              "          element.appendChild(docLink);\n",
              "        }\n",
              "      </script>\n",
              "    </div>\n",
              "  </div>\n",
              "  "
            ]
          },
          "metadata": {},
          "execution_count": 41
        }
      ]
    },
    {
      "cell_type": "markdown",
      "source": [
        "######Ammonia - Ratio of Ammonia in water\n",
        "######Nitrite - Ratio of Nitrite in water\n",
        "######Nitrate - Ratio of Nitrate in water\n",
        "######temperature - Temperature in Degree\n",
        "######Humidity - Reletive humidity in %\n",
        "######ph - pH value of Water\n",
        "######rainfall - Rainfall in mm\n",
        "######Label - Names of different types of fishes"
      ],
      "metadata": {
        "id": "EHjDgR0CGFUE"
      }
    },
    {
      "cell_type": "code",
      "source": [
        "#to check if there is any missing values in the Dataset\n",
        "data.isnull().sum"
      ],
      "metadata": {
        "colab": {
          "base_uri": "https://localhost:8080/"
        },
        "id": "6qhzZoux0yvY",
        "outputId": "953bda21-bd94-40f9-b2b1-d6714eef9bc0"
      },
      "execution_count": null,
      "outputs": [
        {
          "output_type": "execute_result",
          "data": {
            "text/plain": [
              "<bound method NDFrame._add_numeric_operations.<locals>.sum of       Ammonia  Nitrite  Nitrate  temperature  humidity     ph  rainfall  label\n",
              "0       False    False    False        False     False  False     False  False\n",
              "1       False    False    False        False     False  False     False  False\n",
              "2       False    False    False        False     False  False     False  False\n",
              "3       False    False    False        False     False  False     False  False\n",
              "4       False    False    False        False     False  False     False  False\n",
              "...       ...      ...      ...          ...       ...    ...       ...    ...\n",
              "2195    False    False    False        False     False  False     False  False\n",
              "2196    False    False    False        False     False  False     False  False\n",
              "2197    False    False    False        False     False  False     False  False\n",
              "2198    False    False    False        False     False  False     False  False\n",
              "2199    False    False    False        False     False  False     False  False\n",
              "\n",
              "[2200 rows x 8 columns]>"
            ]
          },
          "metadata": {},
          "execution_count": 5
        }
      ]
    },
    {
      "cell_type": "code",
      "source": [
        "data.info()"
      ],
      "metadata": {
        "colab": {
          "base_uri": "https://localhost:8080/"
        },
        "id": "Ju4mBj-407Eo",
        "outputId": "a85e53c2-321f-426a-c161-d12b2509d38c"
      },
      "execution_count": null,
      "outputs": [
        {
          "output_type": "stream",
          "name": "stdout",
          "text": [
            "<class 'pandas.core.frame.DataFrame'>\n",
            "RangeIndex: 2200 entries, 0 to 2199\n",
            "Data columns (total 8 columns):\n",
            " #   Column       Non-Null Count  Dtype  \n",
            "---  ------       --------------  -----  \n",
            " 0   Ammonia      2200 non-null   int64  \n",
            " 1   Nitrite      2200 non-null   int64  \n",
            " 2   Nitrate      2200 non-null   int64  \n",
            " 3   temperature  2200 non-null   float64\n",
            " 4   humidity     2200 non-null   float64\n",
            " 5   ph           2200 non-null   float64\n",
            " 6   rainfall     2200 non-null   float64\n",
            " 7   label        2200 non-null   object \n",
            "dtypes: float64(4), int64(3), object(1)\n",
            "memory usage: 137.6+ KB\n"
          ]
        }
      ]
    },
    {
      "cell_type": "code",
      "source": [
        "#Cheching the type of fishes pesent in the dataset\n",
        "data['label'].value_counts()"
      ],
      "metadata": {
        "colab": {
          "base_uri": "https://localhost:8080/"
        },
        "id": "7viJ3UgR1Bq8",
        "outputId": "172e7cca-1eb1-4ffd-a213-c34c568b7571"
      },
      "execution_count": null,
      "outputs": [
        {
          "output_type": "execute_result",
          "data": {
            "text/plain": [
              "Archerfish              100\n",
              "Goldfish                100\n",
              "Bettas                  100\n",
              "Clown Loaches,          100\n",
              "Black Molly             100\n",
              "Danios                  100\n",
              "pumpkinseed fish        100\n",
              "rosy red minnow         100\n",
              "Barramundi              100\n",
              "Largemouth Bass         100\n",
              "Tilapia                 100\n",
              "Catfish                 100\n",
              "Golden Rainbow Trout    100\n",
              "Sticklebacks            100\n",
              "Fathead Minnows         100\n",
              "Bluegills               100\n",
              "Redears                 100\n",
              "Koi                     100\n",
              "Rosy Red Minnows        100\n",
              "Sterlets                100\n",
              "Rosy Barb               100\n",
              "Rams                    100\n",
              "Name: label, dtype: int64"
            ]
          },
          "metadata": {},
          "execution_count": 7
        }
      ]
    },
    {
      "cell_type": "markdown",
      "source": [
        "##Descriptive Statistics"
      ],
      "metadata": {
        "id": "5tbpbEReHcJA"
      }
    },
    {
      "cell_type": "code",
      "source": [
        "#Checking summary of all the Fishes\n",
        "print(\"Average Ratio of Ammonia in water: {0:.2f}\". format(data['Ammonia'].mean())) \n",
        "print(\"Average Ratio of Nitrite in water: {0:.2f}\". format(data['Nitrite'].mean())) \n",
        "print(\"Average Ratio of Nitrate in water: {0:.2f}\". format (data['Nitrate'].mean())) \n",
        "print(\"Average Tempature in Celsius: {0:.2f}\". format(data['temperature'].mean()))\n",
        "print(\"Average Relative Humidity in %: {0:.2f}\". format (data['temperature'].mean())) \n",
        "print(\"Average Tempature in Celsius: {0:.2f}\". format(data['humidity'].mean())) \n",
        "print(\"Average PH Value of the water: {0:.2f}\". format(data['ph'].mean())) \n",
        "print(\"Average Rainfall in mm: {0:.2f}\". format (data['rainfall'].mean()))"
      ],
      "metadata": {
        "colab": {
          "base_uri": "https://localhost:8080/"
        },
        "id": "xPuxdYqP1QCA",
        "outputId": "2d2a179c-825f-4e1e-d6fd-e3590d2c9c6f"
      },
      "execution_count": null,
      "outputs": [
        {
          "output_type": "stream",
          "name": "stdout",
          "text": [
            "Average Ratio of Ammonia in water: 20.55\n",
            "Average Ratio of Nitrite in water: 23.36\n",
            "Average Ratio of Nitrate in water: 18.15\n",
            "Average Tempature in Celsius: 25.62\n",
            "Average Relative Humidity in %: 25.62\n",
            "Average Tempature in Celsius: 71.48\n",
            "Average PH Value of the water: 6.47\n",
            "Average Rainfall in mm: 103.46\n"
          ]
        }
      ]
    },
    {
      "cell_type": "code",
      "source": [
        "#Checking the summary statistics for each Fish\n",
        "@interact\n",
        "def summary(Fishes = list(data['label'].value_counts().index)): \n",
        "  x = data[data['label'] == Fishes] \n",
        "  print(\"---------------------------------------------------\")\n",
        "  print(\"Statistics for Ammonia\")\n",
        "  print(\"Minimum Ammonia required \", x['Ammonia'].min())\n",
        "  print(\"Average Ammonia required \", x['Ammonia'].mean()) \n",
        "  print(\"Maximum Ammonia required\", x['Ammonia'].max())\n",
        "  print(\"---------------------------------------------------\")\n",
        "  print(\"Statistics for Nitrite\")\n",
        "  print(\"Minimum Nitrite required\", x['Nitrite'].min())\n",
        "  print(\"Average Nitrite required:\", x['Nitrite'].mean())\n",
        "  print(\"Maximum Nitrite required :\", x['Nitrite'].max())\n",
        "  print(\"---------------------------------------------------\")\n",
        "  print(\"Statistics for Nitrate\")\n",
        "  print(\"Minimum Nitrate required :\", x['Nitrate'].min())\n",
        "  print(\"Average Nitrate required\", x['Nitrate'].mean()) \n",
        "  print(\"Maximum Nitrate required\", x['Nitrate'].max())\n",
        "  print(\"---------------------------------------------------\")\n",
        "  print(\"Statistics for Temperature\")\n",
        "  print(\"Minimum Temperature required: {0:.2f}\".format(x['temperature'].min()))\n",
        "  print(\"Average Temperature required: {0:.2f}\".format(x['temperature'].mean()))\n",
        "  print(\"Maximum Temperature required: {0:.2f}\".format(x['temperature'].max()))\n",
        "  print(\"---------------------------------------------------\")\n",
        "  print(\"Statistics for Humidity\")\n",
        "  print(\"Minimum Humidity required: {0:.2f}\".format(x['humidity'].min()))\n",
        "  print(\"Average Humidity required: {0:.2f}\".format(x['humidity'].mean()))\n",
        "  print(\"Maximum Humidity required: {0:.2f}\".format(x['humidity'].max()))\n",
        "  print(\"---------------------------------------------------\")\n",
        "  print(\"Statistics for PH\")\n",
        "  print(\"Maximum PH required: {0:.2f}\".format(x['ph'].max()))\n",
        "  print(\"Average PH required: {0:.2f}\".format(x['ph'].mean()))\n",
        "  print(\"Maximum PH required: {0:.2f}\".format(x['ph'].max()))\n",
        "  print(\"---------------------------------------------------\")\n",
        "  print(\"Statistics for Rainfall\")\n",
        "  print(\"Maximum Rainfall required: {0:.2f}\".format(x['rainfall'].max()))\n",
        "  print(\"Average Rainfall required: {0:.2f}\".format(x['rainfall'].mean()))\n",
        "  print(\"Maximum Rainfall required: {0:.2f}\".format(x['rainfall'].max()))"
      ],
      "metadata": {
        "id": "ujaKtW7j3ItI",
        "outputId": "9342d3aa-aed8-418a-d64b-14111dca6516",
        "colab": {
          "base_uri": "https://localhost:8080/",
          "height": 657,
          "referenced_widgets": [
            "ef30bf63345e4912b6665cfd08e511ef",
            "926f506341604a1181ed1418927c88ff",
            "018597eafe7f4ad3a2e3fdd19cf2ef12",
            "a8ea077e314041d983485255507d514e",
            "6093f3c7eb6347c7886f5f55f330bf22",
            "b6c9e48947e847309ca2bfd27e514b9b",
            "74f82ae49b2f4b0f9bade3925fbe0b82"
          ]
        }
      },
      "execution_count": null,
      "outputs": [
        {
          "output_type": "display_data",
          "data": {
            "text/plain": [
              "interactive(children=(Dropdown(description='Fishes', options=('Archerfish', 'Goldfish', 'Bettas', 'Clown Loach…"
            ],
            "application/vnd.jupyter.widget-view+json": {
              "version_major": 2,
              "version_minor": 0,
              "model_id": "ef30bf63345e4912b6665cfd08e511ef"
            }
          },
          "metadata": {}
        }
      ]
    },
    {
      "cell_type": "code",
      "source": [
        "#Comparing the average requirement for each Fish with average conditions.\n",
        "@interact\n",
        "def compare(conditions = ['Ammonia', 'Nitrite', 'Nitrate', 'temperature', 'ph', 'humidity', 'rainfall']):\n",
        "  print(\"Average Value for\", conditions, \"is {0:.2f}\".format(data[conditions].mean()))\n",
        "  print(\"---------------------------------------------------\")\n",
        "  print(\"Archerfish: {0:.2f}\".format(data[(data['label'] == 'Archerfish')][conditions].mean())) \n",
        "  print(\"Goldfish: {0:.2f}\".format(data[(data['label'] == 'Goldfish')][conditions].mean())) \n",
        "  print(\"Bettas: {0:.2f}\".format(data[(data['label'] == 'Bettas')][conditions].mean())) \n",
        "  print(\"Clown Loaches: {0:.2f}\".format(data[(data['label'] == 'Clown Loaches')][conditions].mean())) \n",
        "  print(\"Black Molly: {0:.2f}\".format(data[ (data['label'] == 'Black Molly')][conditions].mean())) \n",
        "  print(\"Danios: {0:.2f}\".format(data[(data['label'] == 'Danios')][conditions].mean())) \n",
        "  print(\"pumpkinseed fish: {0:.2f}\".format(data[(data['label'] == 'pumpkinseed fish')][conditions].mean())) \n",
        "  print(\"rosy red minnow: {0:.2f}\".format(data[(data['label'] == 'rosy red minnow')][conditions].mean())) \n",
        "  print(\"Barramundi: {0:.2f}\".format(data[(data['label'] == 'Barramundi')][conditions].mean())) \n",
        "  print(\"Largemouth Bass: {0:.2f}\".format(data[(data['label'] == 'Largemouth Bass')][conditions].mean())) \n",
        "  print(\"Tilapia: {0:.2f}\".format(data[(data['label'] == 'Tilapia')][conditions].mean())) \n",
        "  print(\"Catfish: {0:.2f}\".format(data[ (data['label'] == 'Catfish')][conditions].mean())) \n",
        "  print(\"Golden Rainbow Trout: {0:.2f}\".format(data[ (data['label'] == 'Golden Rainbow Trout')][conditions].mean())) \n",
        "  print(\"Sticklebacks: {0:.2f}\".format(data[(data['label'] == 'Sticklebacks')][conditions].mean())) \n",
        "  print(\"Fathead Minnows : {0:.2f}\".format(data[ (data['label'] == 'Fathead Minnows')][conditions].mean())) \n",
        "  print(\"Bluegills: {0:.2f}\".format(data[(data['label'] == 'Bluegills')][conditions].mean())) \n",
        "  print(\"Redears: {0:.2f}\".format(data[(data['label'] == 'Redears')][conditions].mean())) \n",
        "  print(\"Koi: {0:.2f}\".format(data[(data['label'] == 'Koi')][conditions].mean())) \n",
        "  print(\"Rosy Red Minnows: {0:.2f}\".format(data[(data['label']=='Rosy Red Minnows')][conditions].mean())) \n",
        "  print(\"Sterlets: {0:.2f}\".format(data[(data['label'] == 'Sterlets')][conditions].mean())) \n",
        "  print(\"Rosy Barb: {0:.2f}\".format(data[ (data['label'] == 'Rosy Barb')][conditions].mean())) \n",
        "  print(\"Rams: {0:.2f}\".format(data[(data['label'] == 'Rams')][conditions].mean()))"
      ],
      "metadata": {
        "id": "vH4-X_pw6o5L",
        "outputId": "f86b3918-2b9c-4320-a171-a8b51f9a3e75",
        "colab": {
          "base_uri": "https://localhost:8080/",
          "height": 466,
          "referenced_widgets": [
            "02c0ae1bdcff47b3b4eb891324f13ba4",
            "5be1c733bc55464c828d6a185af04d12",
            "6325fbcf687d4b7eb96245a73508ca89",
            "57c472f7a5b0408e8a53e3fd1d2df477",
            "362d14c920a04dee8672b2670f763682",
            "c1ef4dfed35b4fbcb3bbe6c7de45534e",
            "d92d3bb93aa14effb0a4084c2d3e506b"
          ]
        }
      },
      "execution_count": null,
      "outputs": [
        {
          "output_type": "display_data",
          "data": {
            "text/plain": [
              "interactive(children=(Dropdown(description='conditions', options=('Ammonia', 'Nitrite', 'Nitrate', 'temperatur…"
            ],
            "application/vnd.jupyter.widget-view+json": {
              "version_major": 2,
              "version_minor": 0,
              "model_id": "02c0ae1bdcff47b3b4eb891324f13ba4"
            }
          },
          "metadata": {}
        }
      ]
    },
    {
      "cell_type": "code",
      "source": [
        "#Making the function more intuitive\n",
        "@interact\n",
        "def compare(conditions = ['Ammonia', 'Nitrite', 'Nitrate', 'temperature', 'ph', 'humidity', 'rainfall']): \n",
        "  print(\"Fishes which require GREATER than average\", conditions, '\\n') \n",
        "  print(data[data[conditions] >data[conditions].mean()]['label'].unique()) \n",
        "  print(\"-----------------------------------------------------------------------------------\")\n",
        "  print(\"Fishes which require LESSER than average\", conditions, '\\n') \n",
        "  print(data[data[conditions] <= data[conditions].mean()]['label'].unique())"
      ],
      "metadata": {
        "id": "QZF1ywRu8yPa",
        "outputId": "05ff73a9-168b-4532-ed52-d0f7aae75203",
        "colab": {
          "base_uri": "https://localhost:8080/",
          "height": 223,
          "referenced_widgets": [
            "64a146ced04f4dc0849021ce4d0f0ba8",
            "fc280046e1b040979662b89629143d94",
            "544c88bf4d9644939f1eb8d7be088fd5",
            "3ca9a9a09d7d489ca93ebfc5bfac6003",
            "e107e48a01ee4266a93d7ec1f8fc856f",
            "344f345d223240269ddd87d3256dc30b",
            "962d7191f0a54d6f8e0203fd49997a9a"
          ]
        }
      },
      "execution_count": null,
      "outputs": [
        {
          "output_type": "display_data",
          "data": {
            "text/plain": [
              "interactive(children=(Dropdown(description='conditions', options=('Ammonia', 'Nitrite', 'Nitrate', 'temperatur…"
            ],
            "application/vnd.jupyter.widget-view+json": {
              "version_major": 2,
              "version_minor": 0,
              "model_id": "64a146ced04f4dc0849021ce4d0f0ba8"
            }
          },
          "metadata": {}
        }
      ]
    },
    {
      "cell_type": "markdown",
      "source": [
        "\n",
        "##Analyzing Water body Conditions"
      ],
      "metadata": {
        "id": "SxW6iazmJ-M9"
      }
    },
    {
      "cell_type": "code",
      "source": [
        "plt.subplot(1,1,1)\n",
        "sns.distplot(data['Ammonia'], color = 'red')\n",
        "plt.xlabel('Ratio of Ammonia', fontsize = 16)"
      ],
      "metadata": {
        "id": "44nUx_vqHIxo",
        "outputId": "3c5bdc20-095f-4999-bcb2-0f56c99aecc7",
        "colab": {
          "base_uri": "https://localhost:8080/",
          "height": 373
        }
      },
      "execution_count": null,
      "outputs": [
        {
          "output_type": "stream",
          "name": "stderr",
          "text": [
            "/usr/local/lib/python3.7/dist-packages/seaborn/distributions.py:2619: FutureWarning: `distplot` is a deprecated function and will be removed in a future version. Please adapt your code to use either `displot` (a figure-level function with similar flexibility) or `histplot` (an axes-level function for histograms).\n",
            "  warnings.warn(msg, FutureWarning)\n"
          ]
        },
        {
          "output_type": "execute_result",
          "data": {
            "text/plain": [
              "Text(0.5, 0, 'Ratio of Ammonia')"
            ]
          },
          "metadata": {},
          "execution_count": 17
        },
        {
          "output_type": "display_data",
          "data": {
            "text/plain": [
              "<Figure size 432x288 with 1 Axes>"
            ],
            "image/png": "[encoded data removed]"
          },
          "metadata": {}
        }
      ]
    },
    {
      "cell_type": "code",
      "source": [
        "plt.subplot(1,1,1)\n",
        "sns.distplot(data['Nitrite'], color = 'blue') \n",
        "plt.xlabel('Ratio of Nitrite', fontsize = 16)"
      ],
      "metadata": {
        "id": "7m9n1pPJSP2U",
        "outputId": "22ea8dbd-fadd-40be-dd24-ee2127e4745c",
        "colab": {
          "base_uri": "https://localhost:8080/",
          "height": 373
        }
      },
      "execution_count": null,
      "outputs": [
        {
          "output_type": "stream",
          "name": "stderr",
          "text": [
            "/usr/local/lib/python3.7/dist-packages/seaborn/distributions.py:2619: FutureWarning: `distplot` is a deprecated function and will be removed in a future version. Please adapt your code to use either `displot` (a figure-level function with similar flexibility) or `histplot` (an axes-level function for histograms).\n",
            "  warnings.warn(msg, FutureWarning)\n"
          ]
        },
        {
          "output_type": "execute_result",
          "data": {
            "text/plain": [
              "Text(0.5, 0, 'Ratio of Nitrite')"
            ]
          },
          "metadata": {},
          "execution_count": 18
        },
        {
          "output_type": "display_data",
          "data": {
            "text/plain": [
              "<Figure size 432x288 with 1 Axes>"
            ],
            "image/png": "[encoded data removed]"
          },
          "metadata": {}
        }
      ]
    },
    {
      "cell_type": "code",
      "source": [
        "plt.subplot(1,1,1)\n",
        "sns.distplot(data['Nitrate'], color = 'orange')\n",
        "plt.xlabel('Ratio of Nitrate', fontsize = 12)"
      ],
      "metadata": {
        "id": "eq85pzNcSh2A",
        "outputId": "0d1a5847-9359-4741-d2bf-316860ad6f9a",
        "colab": {
          "base_uri": "https://localhost:8080/",
          "height": 371
        }
      },
      "execution_count": null,
      "outputs": [
        {
          "output_type": "stream",
          "name": "stderr",
          "text": [
            "/usr/local/lib/python3.7/dist-packages/seaborn/distributions.py:2619: FutureWarning: `distplot` is a deprecated function and will be removed in a future version. Please adapt your code to use either `displot` (a figure-level function with similar flexibility) or `histplot` (an axes-level function for histograms).\n",
            "  warnings.warn(msg, FutureWarning)\n"
          ]
        },
        {
          "output_type": "execute_result",
          "data": {
            "text/plain": [
              "Text(0.5, 0, 'Ratio of Nitrate')"
            ]
          },
          "metadata": {},
          "execution_count": 19
        },
        {
          "output_type": "display_data",
          "data": {
            "text/plain": [
              "<Figure size 432x288 with 1 Axes>"
            ],
            "image/png": "[encoded data removed]"
          },
          "metadata": {}
        }
      ]
    },
    {
      "cell_type": "code",
      "source": [
        "plt.subplot(1,1,1)\n",
        "sns.distplot(data['temperature'], color = 'violet') \n",
        "plt.xlabel('Temperature', fontsize = 12)"
      ],
      "metadata": {
        "id": "IUwknKZbTANP",
        "outputId": "ee16b859-985c-444d-f10e-0377736dadaa",
        "colab": {
          "base_uri": "https://localhost:8080/",
          "height": 371
        }
      },
      "execution_count": null,
      "outputs": [
        {
          "output_type": "stream",
          "name": "stderr",
          "text": [
            "/usr/local/lib/python3.7/dist-packages/seaborn/distributions.py:2619: FutureWarning: `distplot` is a deprecated function and will be removed in a future version. Please adapt your code to use either `displot` (a figure-level function with similar flexibility) or `histplot` (an axes-level function for histograms).\n",
            "  warnings.warn(msg, FutureWarning)\n"
          ]
        },
        {
          "output_type": "execute_result",
          "data": {
            "text/plain": [
              "Text(0.5, 0, 'Temperature')"
            ]
          },
          "metadata": {},
          "execution_count": 20
        },
        {
          "output_type": "display_data",
          "data": {
            "text/plain": [
              "<Figure size 432x288 with 1 Axes>"
            ],
            "image/png": "[encoded data removed]"
          },
          "metadata": {}
        }
      ]
    },
    {
      "cell_type": "code",
      "source": [
        "plt.subplot(1,1,1)\n",
        "sns.distplot(data['rainfall'], color = 'grey') \n",
        "plt.xlabel('Rainfall', fontsize = 12)"
      ],
      "metadata": {
        "id": "b3l_r6RNTR88",
        "outputId": "727a742d-2d97-4b6a-c8d7-f541d2affc03",
        "colab": {
          "base_uri": "https://localhost:8080/",
          "height": 371
        }
      },
      "execution_count": null,
      "outputs": [
        {
          "output_type": "stream",
          "name": "stderr",
          "text": [
            "/usr/local/lib/python3.7/dist-packages/seaborn/distributions.py:2619: FutureWarning: `distplot` is a deprecated function and will be removed in a future version. Please adapt your code to use either `displot` (a figure-level function with similar flexibility) or `histplot` (an axes-level function for histograms).\n",
            "  warnings.warn(msg, FutureWarning)\n"
          ]
        },
        {
          "output_type": "execute_result",
          "data": {
            "text/plain": [
              "Text(0.5, 0, 'Rainfall')"
            ]
          },
          "metadata": {},
          "execution_count": 21
        },
        {
          "output_type": "display_data",
          "data": {
            "text/plain": [
              "<Figure size 432x288 with 1 Axes>"
            ],
            "image/png": "[encoded data removed]"
          },
          "metadata": {}
        }
      ]
    },
    {
      "cell_type": "code",
      "source": [
        "plt.subplot(1,1,1)\n",
        "sns.distplot(data['humidity'], color = 'green') \n",
        "plt.xlabel('Humidity', fontsize = 12) "
      ],
      "metadata": {
        "id": "jlOXZrGsPQCO",
        "outputId": "0fbe8be7-8e76-4040-f352-95777a37ca55",
        "colab": {
          "base_uri": "https://localhost:8080/",
          "height": 371
        }
      },
      "execution_count": null,
      "outputs": [
        {
          "output_type": "stream",
          "name": "stderr",
          "text": [
            "/usr/local/lib/python3.7/dist-packages/seaborn/distributions.py:2619: FutureWarning: `distplot` is a deprecated function and will be removed in a future version. Please adapt your code to use either `displot` (a figure-level function with similar flexibility) or `histplot` (an axes-level function for histograms).\n",
            "  warnings.warn(msg, FutureWarning)\n"
          ]
        },
        {
          "output_type": "execute_result",
          "data": {
            "text/plain": [
              "Text(0.5, 0, 'Humidity')"
            ]
          },
          "metadata": {},
          "execution_count": 22
        },
        {
          "output_type": "display_data",
          "data": {
            "text/plain": [
              "<Figure size 432x288 with 1 Axes>"
            ],
            "image/png": "[encoded data removed]"
          },
          "metadata": {}
        }
      ]
    },
    {
      "cell_type": "code",
      "source": [
        "plt.subplot(1,1,1)\n",
        "sns.distplot(data['ph'], color = 'pink')\n",
        "plt.xlabel('pH Level', fontsize = 12)"
      ],
      "metadata": {
        "id": "VVv_DDngIk64",
        "outputId": "ab678680-01d5-4893-d89a-9df3ebb2a4ac",
        "colab": {
          "base_uri": "https://localhost:8080/",
          "height": 375
        }
      },
      "execution_count": null,
      "outputs": [
        {
          "output_type": "stream",
          "name": "stderr",
          "text": [
            "/usr/local/lib/python3.7/dist-packages/seaborn/distributions.py:2619: FutureWarning: `distplot` is a deprecated function and will be removed in a future version. Please adapt your code to use either `displot` (a figure-level function with similar flexibility) or `histplot` (an axes-level function for histograms).\n",
            "  warnings.warn(msg, FutureWarning)\n"
          ]
        },
        {
          "output_type": "execute_result",
          "data": {
            "text/plain": [
              "Text(0.5, 0, 'pH Level')"
            ]
          },
          "metadata": {},
          "execution_count": 23
        },
        {
          "output_type": "display_data",
          "data": {
            "text/plain": [
              "<Figure size 432x288 with 1 Axes>"
            ],
            "image/png": "[encoded data removed]"
          },
          "metadata": {}
        }
      ]
    },
    {
      "cell_type": "code",
      "source": [
        "print(\"Some Interesting Patterns\")\n",
        "print(\"----------------------------------------------------------------------------------------------------------\")\n",
        "print(\"Fishes which requires very High Ratio of Ammonia Content in Water:\", data[data['Ammonia'] > 100]['label'].unique()) \n",
        "print(\"Fishes which requires very High Ratio of Nitrite Content in Water:\", data[data['Nitrite'] > 100]['label'].unique())\n",
        "print(\"Fishes which requires very High Ratio of Nitrate content in Water:\", data[data['Nitrate'] > 100]['label'].unique())\n",
        "print(\"Fishes which requires very High Rainfall\", data[data['rainfall']>200]['label'].unique())\n",
        "print(\"Fishes which requires very low Temperature:\", data[data['temperature'] < 10]['label'].unique())\n",
        "print(\"Fishes which requires very High Temperature:\", data[data['temperature']>40]['label'].unique())\n",
        "print(\"Fishes which requires very Low Humidity:\", data[data['humidity']< 20]['label'].unique()) \n",
        "print(\"Fishes which requires very low pHi\", data[data['ph']< 4]['label'].unique())\n",
        "print(\"Fishes which requires very High pH:\", data[data['ph']>9]['label'].unique())"
      ],
      "metadata": {
        "id": "HqhdLytAIlHB",
        "outputId": "7de3e76d-0439-453a-c5a6-e48bf204cf00",
        "colab": {
          "base_uri": "https://localhost:8080/"
        }
      },
      "execution_count": null,
      "outputs": [
        {
          "output_type": "stream",
          "name": "stdout",
          "text": [
            "Some Interesting Patterns\n",
            "----------------------------------------------------------------------------------------------------------\n",
            "Fishes which requires very High Ratio of Ammonia Content in Water: ['Clown Loaches,']\n",
            "Fishes which requires very High Ratio of Nitrite Content in Water: ['Tilapia' 'rosy red minnow']\n",
            "Fishes which requires very High Ratio of Nitrate content in Water: ['Tilapia' 'rosy red minnow']\n",
            "Fishes which requires very High Rainfall ['Archerfish' 'Danios' 'Black Molly']\n",
            "Fishes which requires very low Temperature: ['Tilapia']\n",
            "Fishes which requires very High Temperature: ['Tilapia' 'Danios']\n",
            "Fishes which requires very Low Humidity: ['Rosy Barb' 'Sterlets']\n",
            "Fishes which requires very low pHi ['Koi']\n",
            "Fishes which requires very High pH: ['Koi']\n"
          ]
        }
      ]
    },
    {
      "cell_type": "code",
      "source": [
        "print(\"Summer Fishes\")\n",
        "print(data[(data['temperature'] > 30) & (data['humidity'] > 50)]['label'].unique()) \n",
        "print(\"-------------------------------------------------------------------------------\")\n",
        "print(\"Winter Fishes\")\n",
        "print(data[(data['temperature'] < 20) & (data['humidity'] > 30)]['label'].unique()) \n",
        "print(\"-------------------------------------------------------------------------------\")\n",
        "print(\"Rainy Fishes\")\n",
        "print(data[(data['rainfall'] > 200) & (data['humidity'] > 30)]['label'].unique())"
      ],
      "metadata": {
        "id": "q6oHyLVBY4cO",
        "colab": {
          "base_uri": "https://localhost:8080/"
        },
        "outputId": "f39b4732-b6c9-4cbc-ee56-fb660417d78c"
      },
      "execution_count": null,
      "outputs": [
        {
          "output_type": "stream",
          "name": "stdout",
          "text": [
            "Summer Fishes\n",
            "['Rosy Red Minnows' 'Koi' 'Bluegills' 'Catfish' 'Tilapia'\n",
            " 'pumpkinseed fish' 'Danios']\n",
            "-------------------------------------------------------------------------------\n",
            "Winter Fishes\n",
            "['Goldfish' 'Rosy Red Minnows' 'Fathead Minnows' 'Sticklebacks' 'Tilapia'\n",
            " 'pumpkinseed fish']\n",
            "-------------------------------------------------------------------------------\n",
            "Rainy Fishes\n",
            "['Archerfish' 'Danios' 'Black Molly']\n"
          ]
        }
      ]
    },
    {
      "cell_type": "markdown",
      "source": [
        "##Clustering similar Fishes\n"
      ],
      "metadata": {
        "id": "jTfx7Bp3KkPB"
      }
    },
    {
      "cell_type": "code",
      "source": [
        "import warnings \n",
        "warnings.filterwarnings('ignore')\n",
        "\n",
        "#Selecting all the columns from the data \n",
        "x = data.loc[:, ['Ammonia', 'Nitrite', 'Nitrate', 'temperature', 'ph', 'humidity', 'rainfall']].values\n",
        "#Checking the shape of x \n",
        "print(x.shape)\n",
        "#Converting this data into a dataframe\n",
        "x_data = pd.DataFrame(x)\n",
        "x_data.head()"
      ],
      "metadata": {
        "colab": {
          "base_uri": "https://localhost:8080/",
          "height": 224
        },
        "id": "pqXDbMdz_JDX",
        "outputId": "783dc513-7cf1-4507-f853-85799a5418a4"
      },
      "execution_count": null,
      "outputs": [
        {
          "output_type": "stream",
          "name": "stdout",
          "text": [
            "(2200, 7)\n"
          ]
        },
        {
          "output_type": "execute_result",
          "data": {
            "text/plain": [
              "      0     1     2          3         4          5           6\n",
              "0  60.0  12.0  13.0  20.879744  6.502985  82.002744  202.935536\n",
              "1  55.0  28.0  11.0  21.770462  7.038096  80.319644  226.655537\n",
              "2  30.0  25.0  14.0  23.004459  7.840207  82.320763  263.964248\n",
              "3  44.0   5.0  10.0  26.491096  6.980401  80.158363  242.864034\n",
              "4  48.0  12.0  12.0  20.130175  7.628473  81.604873  262.717340"
            ],
            "text/html": [
              "\n",
              "  <div id=\"df-ea6a6185-e1b5-469e-96bf-80a824d567a4\">\n",
              "    <div class=\"colab-df-container\">\n",
              "      <div>\n",
              "<style scoped>\n",
              "    .dataframe tbody tr th:only-of-type {\n",
              "        vertical-align: middle;\n",
              "    }\n",
              "\n",
              "    .dataframe tbody tr th {\n",
              "        vertical-align: top;\n",
              "    }\n",
              "\n",
              "    .dataframe thead th {\n",
              "        text-align: right;\n",
              "    }\n",
              "</style>\n",
              "<table border=\"1\" class=\"dataframe\">\n",
              "  <thead>\n",
              "    <tr style=\"text-align: right;\">\n",
              "      <th></th>\n",
              "      <th>0</th>\n",
              "      <th>1</th>\n",
              "      <th>2</th>\n",
              "      <th>3</th>\n",
              "      <th>4</th>\n",
              "      <th>5</th>\n",
              "      <th>6</th>\n",
              "    </tr>\n",
              "  </thead>\n",
              "  <tbody>\n",
              "    <tr>\n",
              "      <th>0</th>\n",
              "      <td>60.0</td>\n",
              "      <td>12.0</td>\n",
              "      <td>13.0</td>\n",
              "      <td>20.879744</td>\n",
              "      <td>6.502985</td>\n",
              "      <td>82.002744</td>\n",
              "      <td>202.935536</td>\n",
              "    </tr>\n",
              "    <tr>\n",
              "      <th>1</th>\n",
              "      <td>55.0</td>\n",
              "      <td>28.0</td>\n",
              "      <td>11.0</td>\n",
              "      <td>21.770462</td>\n",
              "      <td>7.038096</td>\n",
              "      <td>80.319644</td>\n",
              "      <td>226.655537</td>\n",
              "    </tr>\n",
              "    <tr>\n",
              "      <th>2</th>\n",
              "      <td>30.0</td>\n",
              "      <td>25.0</td>\n",
              "      <td>14.0</td>\n",
              "      <td>23.004459</td>\n",
              "      <td>7.840207</td>\n",
              "      <td>82.320763</td>\n",
              "      <td>263.964248</td>\n",
              "    </tr>\n",
              "    <tr>\n",
              "      <th>3</th>\n",
              "      <td>44.0</td>\n",
              "      <td>5.0</td>\n",
              "      <td>10.0</td>\n",
              "      <td>26.491096</td>\n",
              "      <td>6.980401</td>\n",
              "      <td>80.158363</td>\n",
              "      <td>242.864034</td>\n",
              "    </tr>\n",
              "    <tr>\n",
              "      <th>4</th>\n",
              "      <td>48.0</td>\n",
              "      <td>12.0</td>\n",
              "      <td>12.0</td>\n",
              "      <td>20.130175</td>\n",
              "      <td>7.628473</td>\n",
              "      <td>81.604873</td>\n",
              "      <td>262.717340</td>\n",
              "    </tr>\n",
              "  </tbody>\n",
              "</table>\n",
              "</div>\n",
              "      <button class=\"colab-df-convert\" onclick=\"convertToInteractive('df-ea6a6185-e1b5-469e-96bf-80a824d567a4')\"\n",
              "              title=\"Convert this dataframe to an interactive table.\"\n",
              "              style=\"display:none;\">\n",
              "        \n",
              "  <svg xmlns=\"http://www.w3.org/2000/svg\" height=\"24px\"viewBox=\"0 0 24 24\"\n",
              "       width=\"24px\">\n",
              "    <path d=\"M0 0h24v24H0V0z\" fill=\"none\"/>\n",
              "    <path d=\"M18.56 5.44l.94 2.06.94-2.06 2.06-.94-2.06-.94-.94-2.06-.94 2.06-2.06.94zm-11 1L8.5 8.5l.94-2.06 2.06-.94-2.06-.94L8.5 2.5l-.94 2.06-2.06.94zm10 10l.94 2.06.94-2.06 2.06-.94-2.06-.94-.94-2.06-.94 2.06-2.06.94z\"/><path d=\"M17.41 7.96l-1.37-1.37c-.4-.4-.92-.59-1.43-.59-.52 0-1.04.2-1.43.59L10.3 9.45l-7.72 7.72c-.78.78-.78 2.05 0 2.83L4 21.41c.39.39.9.59 1.41.59.51 0 1.02-.2 1.41-.59l7.78-7.78 2.81-2.81c.8-.78.8-2.07 0-2.86zM5.41 20L4 18.59l7.72-7.72 1.47 1.35L5.41 20z\"/>\n",
              "  </svg>\n",
              "      </button>\n",
              "      \n",
              "  <style>\n",
              "    .colab-df-container {\n",
              "      display:flex;\n",
              "      flex-wrap:wrap;\n",
              "      gap: 12px;\n",
              "    }\n",
              "\n",
              "    .colab-df-convert {\n",
              "      background-color: #E8F0FE;\n",
              "      border: none;\n",
              "      border-radius: 50%;\n",
              "      cursor: pointer;\n",
              "      display: none;\n",
              "      fill: #1967D2;\n",
              "      height: 32px;\n",
              "      padding: 0 0 0 0;\n",
              "      width: 32px;\n",
              "    }\n",
              "\n",
              "    .colab-df-convert:hover {\n",
              "      background-color: #E2EBFA;\n",
              "      box-shadow: 0px 1px 2px rgba(60, 64, 67, 0.3), 0px 1px 3px 1px rgba(60, 64, 67, 0.15);\n",
              "      fill: #174EA6;\n",
              "    }\n",
              "\n",
              "    [theme=dark] .colab-df-convert {\n",
              "      background-color: #3B4455;\n",
              "      fill: #D2E3FC;\n",
              "    }\n",
              "\n",
              "    [theme=dark] .colab-df-convert:hover {\n",
              "      background-color: #434B5C;\n",
              "      box-shadow: 0px 1px 3px 1px rgba(0, 0, 0, 0.15);\n",
              "      filter: drop-shadow(0px 1px 2px rgba(0, 0, 0, 0.3));\n",
              "      fill: #FFFFFF;\n",
              "    }\n",
              "  </style>\n",
              "\n",
              "      <script>\n",
              "        const buttonEl =\n",
              "          document.querySelector('#df-ea6a6185-e1b5-469e-96bf-80a824d567a4 button.colab-df-convert');\n",
              "        buttonEl.style.display =\n",
              "          google.colab.kernel.accessAllowed ? 'block' : 'none';\n",
              "\n",
              "        async function convertToInteractive(key) {\n",
              "          const element = document.querySelector('#df-ea6a6185-e1b5-469e-96bf-80a824d567a4');\n",
              "          const dataTable =\n",
              "            await google.colab.kernel.invokeFunction('convertToInteractive',\n",
              "                                                     [key], {});\n",
              "          if (!dataTable) return;\n",
              "\n",
              "          const docLinkHtml = 'Like what you see? Visit the ' +\n",
              "            '<a target=\"_blank\" href=https://colab.research.google.com/notebooks/data_table.ipynb>data table notebook</a>'\n",
              "            + ' to learn more about interactive tables.';\n",
              "          element.innerHTML = '';\n",
              "          dataTable['output_type'] = 'display_data';\n",
              "          await google.colab.output.renderOutput(dataTable, element);\n",
              "          const docLink = document.createElement('div');\n",
              "          docLink.innerHTML = docLinkHtml;\n",
              "          element.appendChild(docLink);\n",
              "        }\n",
              "      </script>\n",
              "    </div>\n",
              "  </div>\n",
              "  "
            ]
          },
          "metadata": {},
          "execution_count": 26
        }
      ]
    },
    {
      "cell_type": "code",
      "source": [
        "#Determining the optimum Number of Clusters within the Dataset\n",
        "\n",
        "from sklearn.cluster import KMeans\n",
        "plt.rcParams['figure.figsize']=(10,4)\n",
        "\n",
        "wcss = [] \n",
        "for i in range(1, 11):\n",
        "  km=KMeans(n_clusters=i, init='k-means++', max_iter=100, n_init=10, random_state=0)\n",
        "  km.fit(x)\n",
        "  wcss.append(km.inertia_)\n",
        "\n",
        "plt.plot(range(1,11),wcss)\n",
        "plt.title('The Elbow Method', fontsize=20)\n",
        "plt.xlabel('No. of Clusters')\n",
        "plt.ylabel('wcss')\n",
        "plt.show()"
      ],
      "metadata": {
        "id": "NLyug-9B_JZl",
        "colab": {
          "base_uri": "https://localhost:8080/",
          "height": 325
        },
        "outputId": "c33e37b7-9776-4aa6-df4d-55910896e519"
      },
      "execution_count": null,
      "outputs": [
        {
          "output_type": "display_data",
          "data": {
            "text/plain": [
              "<Figure size 720x288 with 1 Axes>"
            ],
            "image/png": "[encoded data removed]"
          },
          "metadata": {}
        }
      ]
    },
    {
      "cell_type": "code",
      "source": [
        "#Implementing the K Means algorithm to perform Clustering analysis\n",
        "km = KMeans(n_clusters=4, init='k-means++', max_iter=300, n_init=10, random_state=0)\n",
        "y_means=km.fit_predict(x)\n",
        "\n",
        "#Finding out the Result\n",
        "a = data['label']\n",
        "y_means=pd.DataFrame(y_means)\n",
        "z=pd.concat([y_means, a], axis=1)\n",
        "z=z.rename(columns={0: 'cluster'})\n",
        "\n",
        "#Checking the Cluster of each Fish\n",
        "print(\"Result aftert applying K-Means Algorithm\\n\")\n",
        "print(\"Fishes in First Cluster\",z[z['cluster']==0]['label'].unique())\n",
        "print(\"------------------------------------------------------------------------------------------------------\")\n",
        "print(\"Fishes in Second Cluster\",z[z['cluster']==1]['label'].unique())\n",
        "print(\"------------------------------------------------------------------------------------------------------\")\n",
        "print(\"Fishes in Third Cluster\",z[z['cluster']==2]['label'].unique())\n",
        "print(\"------------------------------------------------------------------------------------------------------\")\n",
        "print(\"Fishes in Fourth Cluster\",z[z['cluster']==0]['label'].unique())"
      ],
      "metadata": {
        "colab": {
          "base_uri": "https://localhost:8080/"
        },
        "id": "_rLVSuCvvvRV",
        "outputId": "b1ff8c74-10ef-4d8a-a0a7-a586d5029c83"
      },
      "execution_count": null,
      "outputs": [
        {
          "output_type": "stream",
          "name": "stdout",
          "text": [
            "Result aftert applying K-Means Algorithm\n",
            "\n",
            "Fishes in First Cluster ['Goldfish' 'Rosy Barb' 'Sterlets' 'Rosy Red Minnows' 'Koi' 'Redears'\n",
            " 'Bluegills' 'Fathead Minnows' 'Sticklebacks' 'Catfish' 'pumpkinseed fish'\n",
            " 'Danios' 'Black Molly']\n",
            "------------------------------------------------------------------------------------------------------\n",
            "Fishes in Second Cluster ['Goldfish' 'Golden Rainbow Trout' 'Largemouth Bass' 'Barramundi' 'Danios'\n",
            " 'Clown Loaches,' 'Rams']\n",
            "------------------------------------------------------------------------------------------------------\n",
            "Fishes in Third Cluster ['Tilapia' 'rosy red minnow']\n",
            "------------------------------------------------------------------------------------------------------\n",
            "Fishes in Fourth Cluster ['Goldfish' 'Rosy Barb' 'Sterlets' 'Rosy Red Minnows' 'Koi' 'Redears'\n",
            " 'Bluegills' 'Fathead Minnows' 'Sticklebacks' 'Catfish' 'pumpkinseed fish'\n",
            " 'Danios' 'Black Molly']\n"
          ]
        }
      ]
    },
    {
      "cell_type": "code",
      "source": [
        "# Hard Clustering\n",
        "print(\"Results for Hard Clustering \\n\")\n",
        "counts = z[z['cluster'] == 0]['label'].value_counts() \n",
        "d = z.loc[z['label'].isin(counts.index [counts >= 50])]\n",
        "d=d['label'].value_counts()\n",
        "print(\"Fishes in Cluster 1:\", list(d.index)) \n",
        "print(\"------------------------------------------------------------------------------------------------------\")\n",
        "counts = z[z['cluster'] == 1]['label'].value_counts() \n",
        "d = z.loc[z['label'].isin (counts.index [counts >= 50])]\n",
        "d=d['label'].value_counts() \n",
        "print(\"Fishes in Cluster 2:\", list(d.index)) \n",
        "print(\"------------------------------------------------------------------------------------------------------\")\n",
        "counts = z[z['cluster'] == 2]['label'].value_counts() \n",
        "d = z.loc[z['label'].isin(counts.index[counts >= 50])]\n",
        "d = d['label'].value_counts() \n",
        "print(\"Fishes in Cluster 3:\", list(d.index))\n",
        "print(\"------------------------------------------------------------------------------------------------------\")\n",
        "counts = z[z['cluster']== 3]['label'].value_counts()\n",
        "d = z.loc[z['label'].isin (counts.index[counts >= 50])] \n",
        "d=d['label'].value_counts()\n",
        "print(\"Fishes in Cluster 4:\", list(d.index))"
      ],
      "metadata": {
        "colab": {
          "base_uri": "https://localhost:8080/"
        },
        "id": "RP3VDBFl7Vbl",
        "outputId": "0456605a-278a-40e3-f498-4ab1fae76f65"
      },
      "execution_count": null,
      "outputs": [
        {
          "output_type": "stream",
          "name": "stdout",
          "text": [
            "Results for Hard Clustering \n",
            "\n",
            "Fishes in Cluster 1: ['Rosy Barb', 'Sterlets', 'Koi', 'Redears', 'Bluegills', 'Fathead Minnows', 'Sticklebacks', 'Catfish', 'pumpkinseed fish']\n",
            "------------------------------------------------------------------------------------------------------\n",
            "Fishes in Cluster 2: ['Goldfish', 'Golden Rainbow Trout', 'Largemouth Bass', 'Barramundi', 'Clown Loaches,']\n",
            "------------------------------------------------------------------------------------------------------\n",
            "Fishes in Cluster 3: ['Tilapia', 'rosy red minnow']\n",
            "------------------------------------------------------------------------------------------------------\n",
            "Fishes in Cluster 4: ['Archerfish', 'Rosy Red Minnows', 'Danios', 'Black Molly', 'Bettas', 'Rams']\n"
          ]
        }
      ]
    },
    {
      "cell_type": "markdown",
      "source": [
        "##Visualizing the Hidden Patterns"
      ],
      "metadata": {
        "id": "YBFin6lrLrs4"
      }
    },
    {
      "cell_type": "code",
      "source": [
        "plt.subplot(1, 1, 1)\n",
        "sns.barplot(data['Ammonia'], data['label'])\n",
        "plt.ylabel(' ')\n",
        "plt.xlabel('Ratio of Ammonia', fontsize = 10) \n",
        "plt.yticks(fontsize = 10)"
      ],
      "metadata": {
        "colab": {
          "base_uri": "https://localhost:8080/",
          "height": 331
        },
        "id": "kwdOxwTY8jbi",
        "outputId": "7031b33c-7596-40ea-b6fb-dab6262dba0a"
      },
      "execution_count": null,
      "outputs": [
        {
          "output_type": "execute_result",
          "data": {
            "text/plain": [
              "(array([ 0,  1,  2,  3,  4,  5,  6,  7,  8,  9, 10, 11, 12, 13, 14, 15, 16,\n",
              "        17, 18, 19, 20, 21]), <a list of 22 Text major ticklabel objects>)"
            ]
          },
          "metadata": {},
          "execution_count": 30
        },
        {
          "output_type": "display_data",
          "data": {
            "text/plain": [
              "<Figure size 720x288 with 1 Axes>"
            ],
            "image/png": "[encoded data removed]"
          },
          "metadata": {}
        }
      ]
    },
    {
      "cell_type": "code",
      "source": [
        "plt.subplot(1, 1, 1)\n",
        "sns.barplot(data['Nitrite'], data['label']) \n",
        "plt.xlabel('Ratio of Nitrite', fontsize = 10)\n",
        "plt.ylabel('')\n",
        "plt.yticks(fontsize = 10)"
      ],
      "metadata": {
        "colab": {
          "base_uri": "https://localhost:8080/",
          "height": 331
        },
        "id": "uFRefstN9pGD",
        "outputId": "03fc6780-c58b-4a7c-e3c7-344514b07c90"
      },
      "execution_count": null,
      "outputs": [
        {
          "output_type": "execute_result",
          "data": {
            "text/plain": [
              "(array([ 0,  1,  2,  3,  4,  5,  6,  7,  8,  9, 10, 11, 12, 13, 14, 15, 16,\n",
              "        17, 18, 19, 20, 21]), <a list of 22 Text major ticklabel objects>)"
            ]
          },
          "metadata": {},
          "execution_count": 33
        },
        {
          "output_type": "display_data",
          "data": {
            "text/plain": [
              "<Figure size 720x288 with 1 Axes>"
            ],
            "image/png": "[encoded data removed]"
          },
          "metadata": {}
        }
      ]
    },
    {
      "cell_type": "code",
      "source": [
        "plt.subplot(1, 1, 1)\n",
        "sns.barplot(data['Nitrate'], data['label']) \n",
        "plt.xlabel('Ratio of Nitrate', fontsize = 10)\n",
        "plt.ylabel(' ')\n",
        "plt.yticks(fontsize = 10)"
      ],
      "metadata": {
        "colab": {
          "base_uri": "https://localhost:8080/",
          "height": 331
        },
        "id": "dEZwsBHW96Bn",
        "outputId": "481b2610-3344-4b28-bbd2-9386f07a8b70"
      },
      "execution_count": null,
      "outputs": [
        {
          "output_type": "execute_result",
          "data": {
            "text/plain": [
              "(array([ 0,  1,  2,  3,  4,  5,  6,  7,  8,  9, 10, 11, 12, 13, 14, 15, 16,\n",
              "        17, 18, 19, 20, 21]), <a list of 22 Text major ticklabel objects>)"
            ]
          },
          "metadata": {},
          "execution_count": 34
        },
        {
          "output_type": "display_data",
          "data": {
            "text/plain": [
              "<Figure size 720x288 with 1 Axes>"
            ],
            "image/png": "[encoded data removed]"
          },
          "metadata": {}
        }
      ]
    },
    {
      "cell_type": "code",
      "source": [
        "plt.subplot(1, 1, 1)\n",
        "sns.barplot(data['temperature'], data['label'])\n",
        "plt.ylabel(' ')\n",
        "plt.xlabel('Temperature', fontsize = 10)\n",
        "plt.yticks(fontsize = 10)"
      ],
      "metadata": {
        "colab": {
          "base_uri": "https://localhost:8080/",
          "height": 331
        },
        "id": "FvpKhKiH-O2C",
        "outputId": "99d349d0-7723-421c-a467-0314ddcb35e0"
      },
      "execution_count": null,
      "outputs": [
        {
          "output_type": "execute_result",
          "data": {
            "text/plain": [
              "(array([ 0,  1,  2,  3,  4,  5,  6,  7,  8,  9, 10, 11, 12, 13, 14, 15, 16,\n",
              "        17, 18, 19, 20, 21]), <a list of 22 Text major ticklabel objects>)"
            ]
          },
          "metadata": {},
          "execution_count": 35
        },
        {
          "output_type": "display_data",
          "data": {
            "text/plain": [
              "<Figure size 720x288 with 1 Axes>"
            ],
            "image/png": "[encoded data removed]"
          },
          "metadata": {}
        }
      ]
    },
    {
      "cell_type": "code",
      "source": [
        "plt.subplot(1, 1, 1)\n",
        "sns.barplot(data['humidity'], data['label'])\n",
        "plt.ylabel(' ')\n",
        "plt.xlabel('Humidity', fontsize = 10)\n",
        "plt.yticks(fontsize = 10)"
      ],
      "metadata": {
        "colab": {
          "base_uri": "https://localhost:8080/",
          "height": 331
        },
        "id": "Wl7xRiNU-cu8",
        "outputId": "7c09e410-da2e-462f-e8bb-5f04cde72666"
      },
      "execution_count": null,
      "outputs": [
        {
          "output_type": "execute_result",
          "data": {
            "text/plain": [
              "(array([ 0,  1,  2,  3,  4,  5,  6,  7,  8,  9, 10, 11, 12, 13, 14, 15, 16,\n",
              "        17, 18, 19, 20, 21]), <a list of 22 Text major ticklabel objects>)"
            ]
          },
          "metadata": {},
          "execution_count": 32
        },
        {
          "output_type": "display_data",
          "data": {
            "text/plain": [
              "<Figure size 720x288 with 1 Axes>"
            ],
            "image/png": "[encoded data removed]"
          },
          "metadata": {}
        }
      ]
    },
    {
      "cell_type": "code",
      "source": [
        "plt.subplot(1, 1, 1)\n",
        "sns.barplot(data['ph'], data['label']) \n",
        "plt.ylabel('        ')\n",
        "plt.xlabel('pH of Water', fontsize = 10)\n",
        "plt.yticks(fontsize = 10)"
      ],
      "metadata": {
        "colab": {
          "base_uri": "https://localhost:8080/",
          "height": 331
        },
        "id": "TcsvFIVZ-mT4",
        "outputId": "f42214da-a48f-477c-c20c-bf4800375988"
      },
      "execution_count": null,
      "outputs": [
        {
          "output_type": "execute_result",
          "data": {
            "text/plain": [
              "(array([ 0,  1,  2,  3,  4,  5,  6,  7,  8,  9, 10, 11, 12, 13, 14, 15, 16,\n",
              "        17, 18, 19, 20, 21]), <a list of 22 Text major ticklabel objects>)"
            ]
          },
          "metadata": {},
          "execution_count": 36
        },
        {
          "output_type": "display_data",
          "data": {
            "text/plain": [
              "<Figure size 720x288 with 1 Axes>"
            ],
            "image/png": "[encoded data removed]"
          },
          "metadata": {}
        }
      ]
    },
    {
      "cell_type": "code",
      "source": [
        "plt.subplot(1, 1, 1)\n",
        "sns.barplot(data['rainfall'], data['label']) \n",
        "plt.ylabel('      ')\n",
        "plt.xlabel('Rainfall', fontsize = 10) \n",
        "plt.yticks(fontsize = 8)"
      ],
      "metadata": {
        "colab": {
          "base_uri": "https://localhost:8080/",
          "height": 331
        },
        "id": "auvv5rRx_HbI",
        "outputId": "7f71c1aa-404f-43bd-c96d-e9bffaa9ffa2"
      },
      "execution_count": null,
      "outputs": [
        {
          "output_type": "execute_result",
          "data": {
            "text/plain": [
              "(array([ 0,  1,  2,  3,  4,  5,  6,  7,  8,  9, 10, 11, 12, 13, 14, 15, 16,\n",
              "        17, 18, 19, 20, 21]), <a list of 22 Text major ticklabel objects>)"
            ]
          },
          "metadata": {},
          "execution_count": 37
        },
        {
          "output_type": "display_data",
          "data": {
            "text/plain": [
              "<Figure size 720x288 with 1 Axes>"
            ],
            "image/png": "[encoded data removed]"
          },
          "metadata": {}
        }
      ]
    },
    {
      "cell_type": "markdown",
      "source": [
        "##Predictive Modelling"
      ],
      "metadata": {
        "id": "SoR9qQ6r_adM"
      }
    },
    {
      "cell_type": "code",
      "source": [
        "#Splitting Datasets for predictive Modelling\n",
        "y=data['label']\n",
        "x=data.drop(['label'],axis=1)\n",
        "\n",
        "print(\"Shape of x:\", x.shape)\n",
        "print(\"Shape of y:\", y.shape)"
      ],
      "metadata": {
        "colab": {
          "base_uri": "https://localhost:8080/"
        },
        "id": "rmHoPNj4_U_G",
        "outputId": "1ab5adeb-403a-4bff-c016-d6a4da61ec10"
      },
      "execution_count": null,
      "outputs": [
        {
          "output_type": "stream",
          "name": "stdout",
          "text": [
            "Shape of x: (2200, 7)\n",
            "Shape of y: (2200,)\n"
          ]
        }
      ]
    },
    {
      "cell_type": "code",
      "source": [
        "#Creating test sets for Validation of Results\n",
        "from sklearn.model_selection import train_test_split \n",
        "x_train, x_test, y_train, y_test=train_test_split(x, y, test_size = 0.2, random_state = 0) \n",
        "print(\"The Shape of x train: \", x_train.shape) \n",
        "print(\"The Shape of x test: \", x_test.shape) \n",
        "print(\"The Shape of y train: \", y_train. shape) \n",
        "print(\"The Shape of y test: \", y_test.shape)"
      ],
      "metadata": {
        "colab": {
          "base_uri": "https://localhost:8080/"
        },
        "id": "jH5qmiNp_-BY",
        "outputId": "52b1c4ca-749d-4f4d-fa7e-b86d994dd075"
      },
      "execution_count": null,
      "outputs": [
        {
          "output_type": "stream",
          "name": "stdout",
          "text": [
            "The Shape of x train:  (1760, 7)\n",
            "The Shape of x test:  (440, 7)\n",
            "The Shape of y train:  (1760,)\n",
            "The Shape of y test:  (440,)\n"
          ]
        }
      ]
    },
    {
      "cell_type": "code",
      "source": [
        "#Creating a Predictive Model\n",
        "from sklearn.linear_model import LogisticRegression\n",
        "model = LogisticRegression() \n",
        "model.fit(x_train, y_train) \n",
        "y_pred = model.predict(x_test)"
      ],
      "metadata": {
        "id": "sa7DMpJTA0MM"
      },
      "execution_count": null,
      "outputs": []
    },
    {
      "cell_type": "code",
      "source": [
        "# Evaluating the Model Performance\n",
        "from sklearn.metrics import classification_report, confusion_matrix\n",
        "\n",
        "#Printing the Confusion Matrix first\n",
        "plt.rcParams['figure.figsize']=(10,10)\n",
        "cm = confusion_matrix(y_test, y_pred)\n",
        "sns.heatmap(cm, annot = True, cmap = 'Accent_r')\n",
        "plt.title('Confusion Matrix for Logistic Regression', fontsize = 15)\n",
        "plt.show()\n",
        "\n",
        "# Lets print the Classification Report\n",
        "cr = classification_report (y_test, y_pred) \n",
        "print(cr)"
      ],
      "metadata": {
        "colab": {
          "base_uri": "https://localhost:8080/",
          "height": 1000
        },
        "id": "2-m4c8zBBSeW",
        "outputId": "fff184fc-2742-4f1d-f35b-b35869e077c8"
      },
      "execution_count": null,
      "outputs": [
        {
          "output_type": "display_data",
          "data": {
            "text/plain": [
              "<Figure size 720x720 with 2 Axes>"
            ],
            "image/png": "[encoded data removed]"
          },
          "metadata": {}
        },
        {
          "output_type": "stream",
          "name": "stdout",
          "text": [
            "                      precision    recall  f1-score   support\n",
            "\n",
            "          Archerfish       1.00      0.80      0.89        25\n",
            "          Barramundi       1.00      1.00      1.00        23\n",
            "              Bettas       0.81      1.00      0.89        21\n",
            "         Black Molly       1.00      1.00      1.00        15\n",
            "           Bluegills       0.95      0.86      0.90        22\n",
            "             Catfish       1.00      1.00      1.00        21\n",
            "      Clown Loaches,       0.88      0.94      0.91        16\n",
            "              Danios       1.00      0.95      0.98        21\n",
            "     Fathead Minnows       1.00      0.94      0.97        17\n",
            "Golden Rainbow Trout       1.00      1.00      1.00        18\n",
            "            Goldfish       0.89      0.89      0.89        18\n",
            "                 Koi       0.89      0.96      0.92        25\n",
            "     Largemouth Bass       1.00      1.00      1.00        17\n",
            "                Rams       1.00      1.00      1.00        17\n",
            "             Redears       0.94      1.00      0.97        17\n",
            "           Rosy Barb       1.00      1.00      1.00        23\n",
            "    Rosy Red Minnows       1.00      0.95      0.98        22\n",
            "            Sterlets       0.95      1.00      0.98        20\n",
            "        Sticklebacks       1.00      1.00      1.00        23\n",
            "             Tilapia       1.00      1.00      1.00        18\n",
            "    pumpkinseed fish       1.00      1.00      1.00        23\n",
            "     rosy red minnow       1.00      1.00      1.00        18\n",
            "\n",
            "            accuracy                           0.97       440\n",
            "           macro avg       0.97      0.97      0.97       440\n",
            "        weighted avg       0.97      0.97      0.97       440\n",
            "\n"
          ]
        }
      ]
    },
    {
      "cell_type": "markdown",
      "source": [
        "##**Real Time Predictions**"
      ],
      "metadata": {
        "id": "4nFaByweB3oS"
      }
    },
    {
      "cell_type": "code",
      "source": [
        "data.head()"
      ],
      "metadata": {
        "colab": {
          "base_uri": "https://localhost:8080/",
          "height": 206
        },
        "id": "CbMfg8BrB1gg",
        "outputId": "15187b6b-0c3a-4807-d369-762cdd895812"
      },
      "execution_count": null,
      "outputs": [
        {
          "output_type": "execute_result",
          "data": {
            "text/plain": [
              "   Ammonia  Nitrite  Nitrate  temperature   humidity        ph    rainfall  \\\n",
              "0       60       12       13    20.879744  82.002744  6.502985  202.935536   \n",
              "1       55       28       11    21.770462  80.319644  7.038096  226.655537   \n",
              "2       30       25       14    23.004459  82.320763  7.840207  263.964248   \n",
              "3       44        5       10    26.491096  80.158363  6.980401  242.864034   \n",
              "4       48       12       12    20.130175  81.604873  7.628473  262.717340   \n",
              "\n",
              "        label  \n",
              "0  Archerfish  \n",
              "1  Archerfish  \n",
              "2  Archerfish  \n",
              "3  Archerfish  \n",
              "4  Archerfish  "
            ],
            "text/html": [
              "\n",
              "  <div id=\"df-0023cae1-bc3f-48e2-be51-6e73085c864a\">\n",
              "    <div class=\"colab-df-container\">\n",
              "      <div>\n",
              "<style scoped>\n",
              "    .dataframe tbody tr th:only-of-type {\n",
              "        vertical-align: middle;\n",
              "    }\n",
              "\n",
              "    .dataframe tbody tr th {\n",
              "        vertical-align: top;\n",
              "    }\n",
              "\n",
              "    .dataframe thead th {\n",
              "        text-align: right;\n",
              "    }\n",
              "</style>\n",
              "<table border=\"1\" class=\"dataframe\">\n",
              "  <thead>\n",
              "    <tr style=\"text-align: right;\">\n",
              "      <th></th>\n",
              "      <th>Ammonia</th>\n",
              "      <th>Nitrite</th>\n",
              "      <th>Nitrate</th>\n",
              "      <th>temperature</th>\n",
              "      <th>humidity</th>\n",
              "      <th>ph</th>\n",
              "      <th>rainfall</th>\n",
              "      <th>label</th>\n",
              "    </tr>\n",
              "  </thead>\n",
              "  <tbody>\n",
              "    <tr>\n",
              "      <th>0</th>\n",
              "      <td>60</td>\n",
              "      <td>12</td>\n",
              "      <td>13</td>\n",
              "      <td>20.879744</td>\n",
              "      <td>82.002744</td>\n",
              "      <td>6.502985</td>\n",
              "      <td>202.935536</td>\n",
              "      <td>Archerfish</td>\n",
              "    </tr>\n",
              "    <tr>\n",
              "      <th>1</th>\n",
              "      <td>55</td>\n",
              "      <td>28</td>\n",
              "      <td>11</td>\n",
              "      <td>21.770462</td>\n",
              "      <td>80.319644</td>\n",
              "      <td>7.038096</td>\n",
              "      <td>226.655537</td>\n",
              "      <td>Archerfish</td>\n",
              "    </tr>\n",
              "    <tr>\n",
              "      <th>2</th>\n",
              "      <td>30</td>\n",
              "      <td>25</td>\n",
              "      <td>14</td>\n",
              "      <td>23.004459</td>\n",
              "      <td>82.320763</td>\n",
              "      <td>7.840207</td>\n",
              "      <td>263.964248</td>\n",
              "      <td>Archerfish</td>\n",
              "    </tr>\n",
              "    <tr>\n",
              "      <th>3</th>\n",
              "      <td>44</td>\n",
              "      <td>5</td>\n",
              "      <td>10</td>\n",
              "      <td>26.491096</td>\n",
              "      <td>80.158363</td>\n",
              "      <td>6.980401</td>\n",
              "      <td>242.864034</td>\n",
              "      <td>Archerfish</td>\n",
              "    </tr>\n",
              "    <tr>\n",
              "      <th>4</th>\n",
              "      <td>48</td>\n",
              "      <td>12</td>\n",
              "      <td>12</td>\n",
              "      <td>20.130175</td>\n",
              "      <td>81.604873</td>\n",
              "      <td>7.628473</td>\n",
              "      <td>262.717340</td>\n",
              "      <td>Archerfish</td>\n",
              "    </tr>\n",
              "  </tbody>\n",
              "</table>\n",
              "</div>\n",
              "      <button class=\"colab-df-convert\" onclick=\"convertToInteractive('df-0023cae1-bc3f-48e2-be51-6e73085c864a')\"\n",
              "              title=\"Convert this dataframe to an interactive table.\"\n",
              "              style=\"display:none;\">\n",
              "        \n",
              "  <svg xmlns=\"http://www.w3.org/2000/svg\" height=\"24px\"viewBox=\"0 0 24 24\"\n",
              "       width=\"24px\">\n",
              "    <path d=\"M0 0h24v24H0V0z\" fill=\"none\"/>\n",
              "    <path d=\"M18.56 5.44l.94 2.06.94-2.06 2.06-.94-2.06-.94-.94-2.06-.94 2.06-2.06.94zm-11 1L8.5 8.5l.94-2.06 2.06-.94-2.06-.94L8.5 2.5l-.94 2.06-2.06.94zm10 10l.94 2.06.94-2.06 2.06-.94-2.06-.94-.94-2.06-.94 2.06-2.06.94z\"/><path d=\"M17.41 7.96l-1.37-1.37c-.4-.4-.92-.59-1.43-.59-.52 0-1.04.2-1.43.59L10.3 9.45l-7.72 7.72c-.78.78-.78 2.05 0 2.83L4 21.41c.39.39.9.59 1.41.59.51 0 1.02-.2 1.41-.59l7.78-7.78 2.81-2.81c.8-.78.8-2.07 0-2.86zM5.41 20L4 18.59l7.72-7.72 1.47 1.35L5.41 20z\"/>\n",
              "  </svg>\n",
              "      </button>\n",
              "      \n",
              "  <style>\n",
              "    .colab-df-container {\n",
              "      display:flex;\n",
              "      flex-wrap:wrap;\n",
              "      gap: 12px;\n",
              "    }\n",
              "\n",
              "    .colab-df-convert {\n",
              "      background-color: #E8F0FE;\n",
              "      border: none;\n",
              "      border-radius: 50%;\n",
              "      cursor: pointer;\n",
              "      display: none;\n",
              "      fill: #1967D2;\n",
              "      height: 32px;\n",
              "      padding: 0 0 0 0;\n",
              "      width: 32px;\n",
              "    }\n",
              "\n",
              "    .colab-df-convert:hover {\n",
              "      background-color: #E2EBFA;\n",
              "      box-shadow: 0px 1px 2px rgba(60, 64, 67, 0.3), 0px 1px 3px 1px rgba(60, 64, 67, 0.15);\n",
              "      fill: #174EA6;\n",
              "    }\n",
              "\n",
              "    [theme=dark] .colab-df-convert {\n",
              "      background-color: #3B4455;\n",
              "      fill: #D2E3FC;\n",
              "    }\n",
              "\n",
              "    [theme=dark] .colab-df-convert:hover {\n",
              "      background-color: #434B5C;\n",
              "      box-shadow: 0px 1px 3px 1px rgba(0, 0, 0, 0.15);\n",
              "      filter: drop-shadow(0px 1px 2px rgba(0, 0, 0, 0.3));\n",
              "      fill: #FFFFFF;\n",
              "    }\n",
              "  </style>\n",
              "\n",
              "      <script>\n",
              "        const buttonEl =\n",
              "          document.querySelector('#df-0023cae1-bc3f-48e2-be51-6e73085c864a button.colab-df-convert');\n",
              "        buttonEl.style.display =\n",
              "          google.colab.kernel.accessAllowed ? 'block' : 'none';\n",
              "\n",
              "        async function convertToInteractive(key) {\n",
              "          const element = document.querySelector('#df-0023cae1-bc3f-48e2-be51-6e73085c864a');\n",
              "          const dataTable =\n",
              "            await google.colab.kernel.invokeFunction('convertToInteractive',\n",
              "                                                     [key], {});\n",
              "          if (!dataTable) return;\n",
              "\n",
              "          const docLinkHtml = 'Like what you see? Visit the ' +\n",
              "            '<a target=\"_blank\" href=https://colab.research.google.com/notebooks/data_table.ipynb>data table notebook</a>'\n",
              "            + ' to learn more about interactive tables.';\n",
              "          element.innerHTML = '';\n",
              "          dataTable['output_type'] = 'display_data';\n",
              "          await google.colab.output.renderOutput(dataTable, element);\n",
              "          const docLink = document.createElement('div');\n",
              "          docLink.innerHTML = docLinkHtml;\n",
              "          element.appendChild(docLink);\n",
              "        }\n",
              "      </script>\n",
              "    </div>\n",
              "  </div>\n",
              "  "
            ]
          },
          "metadata": {},
          "execution_count": 42
        }
      ]
    },
    {
      "cell_type": "code",
      "source": [
        "prediction = model.predict((np.array([[70,10,10,20,80,7,200]])))\n",
        "print(\"The Suggested fish for Given Climatic Condition is:\", prediction)"
      ],
      "metadata": {
        "colab": {
          "base_uri": "https://localhost:8080/"
        },
        "id": "xtxzmyEgBsgY",
        "outputId": "d0bfa2d7-6c14-4f95-d7b4-b777a0229549"
      },
      "execution_count": null,
      "outputs": [
        {
          "output_type": "stream",
          "name": "stdout",
          "text": [
            "The Suggested fish for Given Climatic Condition is: ['Archerfish']\n"
          ]
        }
      ]
    },
    {
      "cell_type": "code",
      "source": [
        "data[data['label']=='Danios'].head()"
      ],
      "metadata": {
        "colab": {
          "base_uri": "https://localhost:8080/",
          "height": 206
        },
        "id": "W3Mba2ThCvpe",
        "outputId": "6435d9dc-237c-4c88-9d0f-e56200587415"
      },
      "execution_count": null,
      "outputs": [
        {
          "output_type": "execute_result",
          "data": {
            "text/plain": [
              "      Ammonia  Nitrite  Nitrate  temperature   humidity        ph    rainfall  \\\n",
              "1700       31       38       20    35.214628  91.497251  6.793245  243.074507   \n",
              "1701       28       16       15    42.394134  90.790281  6.576261   88.466075   \n",
              "1702       15       17       25    38.419163  91.142204  6.751453  119.265388   \n",
              "1703        9       35       23    35.332949  92.115086  6.560743  235.613359   \n",
              "1704        1       38       15    42.923253  90.076005  6.938313  196.240824   \n",
              "\n",
              "       label  \n",
              "1700  Danios  \n",
              "1701  Danios  \n",
              "1702  Danios  \n",
              "1703  Danios  \n",
              "1704  Danios  "
            ],
            "text/html": [
              "\n",
              "  <div id=\"df-67831319-0a75-4c61-b4df-5c7bfdedc597\">\n",
              "    <div class=\"colab-df-container\">\n",
              "      <div>\n",
              "<style scoped>\n",
              "    .dataframe tbody tr th:only-of-type {\n",
              "        vertical-align: middle;\n",
              "    }\n",
              "\n",
              "    .dataframe tbody tr th {\n",
              "        vertical-align: top;\n",
              "    }\n",
              "\n",
              "    .dataframe thead th {\n",
              "        text-align: right;\n",
              "    }\n",
              "</style>\n",
              "<table border=\"1\" class=\"dataframe\">\n",
              "  <thead>\n",
              "    <tr style=\"text-align: right;\">\n",
              "      <th></th>\n",
              "      <th>Ammonia</th>\n",
              "      <th>Nitrite</th>\n",
              "      <th>Nitrate</th>\n",
              "      <th>temperature</th>\n",
              "      <th>humidity</th>\n",
              "      <th>ph</th>\n",
              "      <th>rainfall</th>\n",
              "      <th>label</th>\n",
              "    </tr>\n",
              "  </thead>\n",
              "  <tbody>\n",
              "    <tr>\n",
              "      <th>1700</th>\n",
              "      <td>31</td>\n",
              "      <td>38</td>\n",
              "      <td>20</td>\n",
              "      <td>35.214628</td>\n",
              "      <td>91.497251</td>\n",
              "      <td>6.793245</td>\n",
              "      <td>243.074507</td>\n",
              "      <td>Danios</td>\n",
              "    </tr>\n",
              "    <tr>\n",
              "      <th>1701</th>\n",
              "      <td>28</td>\n",
              "      <td>16</td>\n",
              "      <td>15</td>\n",
              "      <td>42.394134</td>\n",
              "      <td>90.790281</td>\n",
              "      <td>6.576261</td>\n",
              "      <td>88.466075</td>\n",
              "      <td>Danios</td>\n",
              "    </tr>\n",
              "    <tr>\n",
              "      <th>1702</th>\n",
              "      <td>15</td>\n",
              "      <td>17</td>\n",
              "      <td>25</td>\n",
              "      <td>38.419163</td>\n",
              "      <td>91.142204</td>\n",
              "      <td>6.751453</td>\n",
              "      <td>119.265388</td>\n",
              "      <td>Danios</td>\n",
              "    </tr>\n",
              "    <tr>\n",
              "      <th>1703</th>\n",
              "      <td>9</td>\n",
              "      <td>35</td>\n",
              "      <td>23</td>\n",
              "      <td>35.332949</td>\n",
              "      <td>92.115086</td>\n",
              "      <td>6.560743</td>\n",
              "      <td>235.613359</td>\n",
              "      <td>Danios</td>\n",
              "    </tr>\n",
              "    <tr>\n",
              "      <th>1704</th>\n",
              "      <td>1</td>\n",
              "      <td>38</td>\n",
              "      <td>15</td>\n",
              "      <td>42.923253</td>\n",
              "      <td>90.076005</td>\n",
              "      <td>6.938313</td>\n",
              "      <td>196.240824</td>\n",
              "      <td>Danios</td>\n",
              "    </tr>\n",
              "  </tbody>\n",
              "</table>\n",
              "</div>\n",
              "      <button class=\"colab-df-convert\" onclick=\"convertToInteractive('df-67831319-0a75-4c61-b4df-5c7bfdedc597')\"\n",
              "              title=\"Convert this dataframe to an interactive table.\"\n",
              "              style=\"display:none;\">\n",
              "        \n",
              "  <svg xmlns=\"http://www.w3.org/2000/svg\" height=\"24px\"viewBox=\"0 0 24 24\"\n",
              "       width=\"24px\">\n",
              "    <path d=\"M0 0h24v24H0V0z\" fill=\"none\"/>\n",
              "    <path d=\"M18.56 5.44l.94 2.06.94-2.06 2.06-.94-2.06-.94-.94-2.06-.94 2.06-2.06.94zm-11 1L8.5 8.5l.94-2.06 2.06-.94-2.06-.94L8.5 2.5l-.94 2.06-2.06.94zm10 10l.94 2.06.94-2.06 2.06-.94-2.06-.94-.94-2.06-.94 2.06-2.06.94z\"/><path d=\"M17.41 7.96l-1.37-1.37c-.4-.4-.92-.59-1.43-.59-.52 0-1.04.2-1.43.59L10.3 9.45l-7.72 7.72c-.78.78-.78 2.05 0 2.83L4 21.41c.39.39.9.59 1.41.59.51 0 1.02-.2 1.41-.59l7.78-7.78 2.81-2.81c.8-.78.8-2.07 0-2.86zM5.41 20L4 18.59l7.72-7.72 1.47 1.35L5.41 20z\"/>\n",
              "  </svg>\n",
              "      </button>\n",
              "      \n",
              "  <style>\n",
              "    .colab-df-container {\n",
              "      display:flex;\n",
              "      flex-wrap:wrap;\n",
              "      gap: 12px;\n",
              "    }\n",
              "\n",
              "    .colab-df-convert {\n",
              "      background-color: #E8F0FE;\n",
              "      border: none;\n",
              "      border-radius: 50%;\n",
              "      cursor: pointer;\n",
              "      display: none;\n",
              "      fill: #1967D2;\n",
              "      height: 32px;\n",
              "      padding: 0 0 0 0;\n",
              "      width: 32px;\n",
              "    }\n",
              "\n",
              "    .colab-df-convert:hover {\n",
              "      background-color: #E2EBFA;\n",
              "      box-shadow: 0px 1px 2px rgba(60, 64, 67, 0.3), 0px 1px 3px 1px rgba(60, 64, 67, 0.15);\n",
              "      fill: #174EA6;\n",
              "    }\n",
              "\n",
              "    [theme=dark] .colab-df-convert {\n",
              "      background-color: #3B4455;\n",
              "      fill: #D2E3FC;\n",
              "    }\n",
              "\n",
              "    [theme=dark] .colab-df-convert:hover {\n",
              "      background-color: #434B5C;\n",
              "      box-shadow: 0px 1px 3px 1px rgba(0, 0, 0, 0.15);\n",
              "      filter: drop-shadow(0px 1px 2px rgba(0, 0, 0, 0.3));\n",
              "      fill: #FFFFFF;\n",
              "    }\n",
              "  </style>\n",
              "\n",
              "      <script>\n",
              "        const buttonEl =\n",
              "          document.querySelector('#df-67831319-0a75-4c61-b4df-5c7bfdedc597 button.colab-df-convert');\n",
              "        buttonEl.style.display =\n",
              "          google.colab.kernel.accessAllowed ? 'block' : 'none';\n",
              "\n",
              "        async function convertToInteractive(key) {\n",
              "          const element = document.querySelector('#df-67831319-0a75-4c61-b4df-5c7bfdedc597');\n",
              "          const dataTable =\n",
              "            await google.colab.kernel.invokeFunction('convertToInteractive',\n",
              "                                                     [key], {});\n",
              "          if (!dataTable) return;\n",
              "\n",
              "          const docLinkHtml = 'Like what you see? Visit the ' +\n",
              "            '<a target=\"_blank\" href=https://colab.research.google.com/notebooks/data_table.ipynb>data table notebook</a>'\n",
              "            + ' to learn more about interactive tables.';\n",
              "          element.innerHTML = '';\n",
              "          dataTable['output_type'] = 'display_data';\n",
              "          await google.colab.output.renderOutput(dataTable, element);\n",
              "          const docLink = document.createElement('div');\n",
              "          docLink.innerHTML = docLinkHtml;\n",
              "          element.appendChild(docLink);\n",
              "        }\n",
              "      </script>\n",
              "    </div>\n",
              "  </div>\n",
              "  "
            ]
          },
          "metadata": {},
          "execution_count": 44
        }
      ]
    },
    {
      "cell_type": "code",
      "source": [
        "prediction = model.predict((np.array([[20,30,10,15,90,7.5,100]])))\n",
        "print(\"The Suggested Fish for Given Climatic Condition is:\", prediction)"
      ],
      "metadata": {
        "colab": {
          "base_uri": "https://localhost:8080/"
        },
        "id": "2L1vJtoDC8Nf",
        "outputId": "79ce6ad6-ff88-4db5-a2fe-5390c52037e3"
      },
      "execution_count": null,
      "outputs": [
        {
          "output_type": "stream",
          "name": "stdout",
          "text": [
            "The Suggested Fish for Given Climatic Condition is: ['Danios']\n"
          ]
        }
      ]
    },
    {
      "cell_type": "markdown",
      "source": [
        "#**Result**"
      ],
      "metadata": {
        "id": "amGunPSODuzR"
      }
    },
    {
      "cell_type": "markdown",
      "source": [
        "Thus here multi-class Classification has been performed and Prediction is done that which Fish can be cultivated in the given condition."
      ],
      "metadata": {
        "id": "b2fxxtkXD2kl"
      }
    }
  ],
  "metadata": {
    "colab": {
      "provenance": []
    },
    "kernelspec": {
      "display_name": "Python 3",
      "name": "python3"
    },
    "widgets": {
      "application/vnd.jupyter.widget-state+json": {
        "ef30bf63345e4912b6665cfd08e511ef": {
          "model_module": "@jupyter-widgets/controls",
          "model_name": "VBoxModel",
          "model_module_version": "1.5.0",
          "state": {
            "_dom_classes": [
              "widget-interact"
            ],
            "_model_module": "@jupyter-widgets/controls",
            "_model_module_version": "1.5.0",
            "_model_name": "VBoxModel",
            "_view_count": null,
            "_view_module": "@jupyter-widgets/controls",
            "_view_module_version": "1.5.0",
            "_view_name": "VBoxView",
            "box_style": "",
            "children": [
              "IPY_MODEL_926f506341604a1181ed1418927c88ff",
              "IPY_MODEL_018597eafe7f4ad3a2e3fdd19cf2ef12"
            ],
            "layout": "IPY_MODEL_a8ea077e314041d983485255507d514e"
          }
        },
        "926f506341604a1181ed1418927c88ff": {
          "model_module": "@jupyter-widgets/controls",
          "model_name": "DropdownModel",
          "model_module_version": "1.5.0",
          "state": {
            "_dom_classes": [],
            "_model_module": "@jupyter-widgets/controls",
            "_model_module_version": "1.5.0",
            "_model_name": "DropdownModel",
            "_options_labels": [
              "Archerfish",
              "Goldfish",
              "Bettas",
              "Clown Loaches,",
              "Black Molly",
              "Danios",
              "pumpkinseed fish",
              "rosy red minnow",
              "Barramundi",
              "Largemouth Bass",
              "Tilapia",
              "Catfish",
              "Golden Rainbow Trout",
              "Sticklebacks",
              "Fathead Minnows",
              "Bluegills",
              "Redears",
              "Koi",
              "Rosy Red Minnows",
              "Sterlets",
              "Rosy Barb",
              "Rams"
            ],
            "_view_count": null,
            "_view_module": "@jupyter-widgets/controls",
            "_view_module_version": "1.5.0",
            "_view_name": "DropdownView",
            "description": "Fishes",
            "description_tooltip": null,
            "disabled": false,
            "index": 0,
            "layout": "IPY_MODEL_6093f3c7eb6347c7886f5f55f330bf22",
            "style": "IPY_MODEL_b6c9e48947e847309ca2bfd27e514b9b"
          }
        },
        "018597eafe7f4ad3a2e3fdd19cf2ef12": {
          "model_module": "@jupyter-widgets/output",
          "model_name": "OutputModel",
          "model_module_version": "1.0.0",
          "state": {
            "_dom_classes": [],
            "_model_module": "@jupyter-widgets/output",
            "_model_module_version": "1.0.0",
            "_model_name": "OutputModel",
            "_view_count": null,
            "_view_module": "@jupyter-widgets/output",
            "_view_module_version": "1.0.0",
            "_view_name": "OutputView",
            "layout": "IPY_MODEL_74f82ae49b2f4b0f9bade3925fbe0b82",
            "msg_id": "",
            "outputs": [
              {
                "output_type": "stream",
                "name": "stdout",
                "text": [
                  "---------------------------------------------------\n",
                  "Statistics for Ammonia\n",
                  "Minimum Ammonia required  30\n",
                  "Average Ammonia required  49.89\n",
                  "Maximum Ammonia required 69\n",
                  "---------------------------------------------------\n",
                  "Statistics for Nitrite\n",
                  "Minimum Nitrite required 5\n",
                  "Average Nitrite required: 17.58\n",
                  "Maximum Nitrite required : 30\n",
                  "---------------------------------------------------\n",
                  "Statistics for Nitrate\n",
                  "Minimum Nitrate required : 5\n",
                  "Average Nitrate required 9.87\n",
                  "Maximum Nitrate required 15\n",
                  "---------------------------------------------------\n",
                  "Statistics for Temperature\n",
                  "Minimum Temperature required: 20.05\n",
                  "Average Temperature required: 23.69\n",
                  "Maximum Temperature required: 26.93\n",
                  "---------------------------------------------------\n",
                  "Statistics for Humidity\n",
                  "Minimum Humidity required: 80.12\n",
                  "Average Humidity required: 82.27\n",
                  "Maximum Humidity required: 84.97\n",
                  "---------------------------------------------------\n",
                  "Statistics for PH\n",
                  "Maximum PH required: 7.87\n",
                  "Average PH required: 6.43\n",
                  "Maximum PH required: 7.87\n",
                  "---------------------------------------------------\n",
                  "Statistics for Rainfall\n",
                  "Maximum Rainfall required: 298.56\n",
                  "Average Rainfall required: 236.18\n",
                  "Maximum Rainfall required: 298.56\n"
                ]
              }
            ]
          }
        },
        "a8ea077e314041d983485255507d514e": {
          "model_module": "@jupyter-widgets/base",
          "model_name": "LayoutModel",
          "model_module_version": "1.2.0",
          "state": {
            "_model_module": "@jupyter-widgets/base",
            "_model_module_version": "1.2.0",
            "_model_name": "LayoutModel",
            "_view_count": null,
            "_view_module": "@jupyter-widgets/base",
            "_view_module_version": "1.2.0",
            "_view_name": "LayoutView",
            "align_content": null,
            "align_items": null,
            "align_self": null,
            "border": null,
            "bottom": null,
            "display": null,
            "flex": null,
            "flex_flow": null,
            "grid_area": null,
            "grid_auto_columns": null,
            "grid_auto_flow": null,
            "grid_auto_rows": null,
            "grid_column": null,
            "grid_gap": null,
            "grid_row": null,
            "grid_template_areas": null,
            "grid_template_columns": null,
            "grid_template_rows": null,
            "height": null,
            "justify_content": null,
            "justify_items": null,
            "left": null,
            "margin": null,
            "max_height": null,
            "max_width": null,
            "min_height": null,
            "min_width": null,
            "object_fit": null,
            "object_position": null,
            "order": null,
            "overflow": null,
            "overflow_x": null,
            "overflow_y": null,
            "padding": null,
            "right": null,
            "top": null,
            "visibility": null,
            "width": null
          }
        },
        "6093f3c7eb6347c7886f5f55f330bf22": {
          "model_module": "@jupyter-widgets/base",
          "model_name": "LayoutModel",
          "model_module_version": "1.2.0",
          "state": {
            "_model_module": "@jupyter-widgets/base",
            "_model_module_version": "1.2.0",
            "_model_name": "LayoutModel",
            "_view_count": null,
            "_view_module": "@jupyter-widgets/base",
            "_view_module_version": "1.2.0",
            "_view_name": "LayoutView",
            "align_content": null,
            "align_items": null,
            "align_self": null,
            "border": null,
            "bottom": null,
            "display": null,
            "flex": null,
            "flex_flow": null,
            "grid_area": null,
            "grid_auto_columns": null,
            "grid_auto_flow": null,
            "grid_auto_rows": null,
            "grid_column": null,
            "grid_gap": null,
            "grid_row": null,
            "grid_template_areas": null,
            "grid_template_columns": null,
            "grid_template_rows": null,
            "height": null,
            "justify_content": null,
            "justify_items": null,
            "left": null,
            "margin": null,
            "max_height": null,
            "max_width": null,
            "min_height": null,
            "min_width": null,
            "object_fit": null,
            "object_position": null,
            "order": null,
            "overflow": null,
            "overflow_x": null,
            "overflow_y": null,
            "padding": null,
            "right": null,
            "top": null,
            "visibility": null,
            "width": null
          }
        },
        "b6c9e48947e847309ca2bfd27e514b9b": {
          "model_module": "@jupyter-widgets/controls",
          "model_name": "DescriptionStyleModel",
          "model_module_version": "1.5.0",
          "state": {
            "_model_module": "@jupyter-widgets/controls",
            "_model_module_version": "1.5.0",
            "_model_name": "DescriptionStyleModel",
            "_view_count": null,
            "_view_module": "@jupyter-widgets/base",
            "_view_module_version": "1.2.0",
            "_view_name": "StyleView",
            "description_width": ""
          }
        },
        "74f82ae49b2f4b0f9bade3925fbe0b82": {
          "model_module": "@jupyter-widgets/base",
          "model_name": "LayoutModel",
          "model_module_version": "1.2.0",
          "state": {
            "_model_module": "@jupyter-widgets/base",
            "_model_module_version": "1.2.0",
            "_model_name": "LayoutModel",
            "_view_count": null,
            "_view_module": "@jupyter-widgets/base",
            "_view_module_version": "1.2.0",
            "_view_name": "LayoutView",
            "align_content": null,
            "align_items": null,
            "align_self": null,
            "border": null,
            "bottom": null,
            "display": null,
            "flex": null,
            "flex_flow": null,
            "grid_area": null,
            "grid_auto_columns": null,
            "grid_auto_flow": null,
            "grid_auto_rows": null,
            "grid_column": null,
            "grid_gap": null,
            "grid_row": null,
            "grid_template_areas": null,
            "grid_template_columns": null,
            "grid_template_rows": null,
            "height": null,
            "justify_content": null,
            "justify_items": null,
            "left": null,
            "margin": null,
            "max_height": null,
            "max_width": null,
            "min_height": null,
            "min_width": null,
            "object_fit": null,
            "object_position": null,
            "order": null,
            "overflow": null,
            "overflow_x": null,
            "overflow_y": null,
            "padding": null,
            "right": null,
            "top": null,
            "visibility": null,
            "width": null
          }
        },
        "02c0ae1bdcff47b3b4eb891324f13ba4": {
          "model_module": "@jupyter-widgets/controls",
          "model_name": "VBoxModel",
          "model_module_version": "1.5.0",
          "state": {
            "_dom_classes": [
              "widget-interact"
            ],
            "_model_module": "@jupyter-widgets/controls",
            "_model_module_version": "1.5.0",
            "_model_name": "VBoxModel",
            "_view_count": null,
            "_view_module": "@jupyter-widgets/controls",
            "_view_module_version": "1.5.0",
            "_view_name": "VBoxView",
            "box_style": "",
            "children": [
              "IPY_MODEL_5be1c733bc55464c828d6a185af04d12",
              "IPY_MODEL_6325fbcf687d4b7eb96245a73508ca89"
            ],
            "layout": "IPY_MODEL_57c472f7a5b0408e8a53e3fd1d2df477"
          }
        },
        "5be1c733bc55464c828d6a185af04d12": {
          "model_module": "@jupyter-widgets/controls",
          "model_name": "DropdownModel",
          "model_module_version": "1.5.0",
          "state": {
            "_dom_classes": [],
            "_model_module": "@jupyter-widgets/controls",
            "_model_module_version": "1.5.0",
            "_model_name": "DropdownModel",
            "_options_labels": [
              "Ammonia",
              "Nitrite",
              "Nitrate",
              "temperature",
              "ph",
              "humidity",
              "rainfall"
            ],
            "_view_count": null,
            "_view_module": "@jupyter-widgets/controls",
            "_view_module_version": "1.5.0",
            "_view_name": "DropdownView",
            "description": "conditions",
            "description_tooltip": null,
            "disabled": false,
            "index": 0,
            "layout": "IPY_MODEL_362d14c920a04dee8672b2670f763682",
            "style": "IPY_MODEL_c1ef4dfed35b4fbcb3bbe6c7de45534e"
          }
        },
        "6325fbcf687d4b7eb96245a73508ca89": {
          "model_module": "@jupyter-widgets/output",
          "model_name": "OutputModel",
          "model_module_version": "1.0.0",
          "state": {
            "_dom_classes": [],
            "_model_module": "@jupyter-widgets/output",
            "_model_module_version": "1.0.0",
            "_model_name": "OutputModel",
            "_view_count": null,
            "_view_module": "@jupyter-widgets/output",
            "_view_module_version": "1.0.0",
            "_view_name": "OutputView",
            "layout": "IPY_MODEL_d92d3bb93aa14effb0a4084c2d3e506b",
            "msg_id": "",
            "outputs": [
              {
                "output_type": "stream",
                "name": "stdout",
                "text": [
                  "Average Value for Ammonia is 20.55\n",
                  "---------------------------------------------------\n",
                  "Archerfish: 49.89\n",
                  "Goldfish: 47.76\n",
                  "Bettas: 48.40\n",
                  "Clown Loaches: nan\n",
                  "Black Molly: -8.02\n",
                  "Danios: 19.88\n",
                  "pumpkinseed fish: -10.42\n",
                  "rosy red minnow: -9.20\n",
                  "Barramundi: 70.32\n",
                  "Largemouth Bass: 69.42\n",
                  "Tilapia: -6.82\n",
                  "Catfish: -9.93\n",
                  "Golden Rainbow Trout: 70.23\n",
                  "Sticklebacks: -11.13\n",
                  "Fathead Minnows : -11.23\n",
                  "Bluegills: 10.02\n",
                  "Redears: -9.01\n",
                  "Koi: -8.56\n",
                  "Rosy Red Minnows: -9.27\n",
                  "Sterlets: -9.25\n",
                  "Rosy Barb: 10.09\n",
                  "Rams: 71.20\n"
                ]
              }
            ]
          }
        },
        "57c472f7a5b0408e8a53e3fd1d2df477": {
          "model_module": "@jupyter-widgets/base",
          "model_name": "LayoutModel",
          "model_module_version": "1.2.0",
          "state": {
            "_model_module": "@jupyter-widgets/base",
            "_model_module_version": "1.2.0",
            "_model_name": "LayoutModel",
            "_view_count": null,
            "_view_module": "@jupyter-widgets/base",
            "_view_module_version": "1.2.0",
            "_view_name": "LayoutView",
            "align_content": null,
            "align_items": null,
            "align_self": null,
            "border": null,
            "bottom": null,
            "display": null,
            "flex": null,
            "flex_flow": null,
            "grid_area": null,
            "grid_auto_columns": null,
            "grid_auto_flow": null,
            "grid_auto_rows": null,
            "grid_column": null,
            "grid_gap": null,
            "grid_row": null,
            "grid_template_areas": null,
            "grid_template_columns": null,
            "grid_template_rows": null,
            "height": null,
            "justify_content": null,
            "justify_items": null,
            "left": null,
            "margin": null,
            "max_height": null,
            "max_width": null,
            "min_height": null,
            "min_width": null,
            "object_fit": null,
            "object_position": null,
            "order": null,
            "overflow": null,
            "overflow_x": null,
            "overflow_y": null,
            "padding": null,
            "right": null,
            "top": null,
            "visibility": null,
            "width": null
          }
        },
        "362d14c920a04dee8672b2670f763682": {
          "model_module": "@jupyter-widgets/base",
          "model_name": "LayoutModel",
          "model_module_version": "1.2.0",
          "state": {
            "_model_module": "@jupyter-widgets/base",
            "_model_module_version": "1.2.0",
            "_model_name": "LayoutModel",
            "_view_count": null,
            "_view_module": "@jupyter-widgets/base",
            "_view_module_version": "1.2.0",
            "_view_name": "LayoutView",
            "align_content": null,
            "align_items": null,
            "align_self": null,
            "border": null,
            "bottom": null,
            "display": null,
            "flex": null,
            "flex_flow": null,
            "grid_area": null,
            "grid_auto_columns": null,
            "grid_auto_flow": null,
            "grid_auto_rows": null,
            "grid_column": null,
            "grid_gap": null,
            "grid_row": null,
            "grid_template_areas": null,
            "grid_template_columns": null,
            "grid_template_rows": null,
            "height": null,
            "justify_content": null,
            "justify_items": null,
            "left": null,
            "margin": null,
            "max_height": null,
            "max_width": null,
            "min_height": null,
            "min_width": null,
            "object_fit": null,
            "object_position": null,
            "order": null,
            "overflow": null,
            "overflow_x": null,
            "overflow_y": null,
            "padding": null,
            "right": null,
            "top": null,
            "visibility": null,
            "width": null
          }
        },
        "c1ef4dfed35b4fbcb3bbe6c7de45534e": {
          "model_module": "@jupyter-widgets/controls",
          "model_name": "DescriptionStyleModel",
          "model_module_version": "1.5.0",
          "state": {
            "_model_module": "@jupyter-widgets/controls",
            "_model_module_version": "1.5.0",
            "_model_name": "DescriptionStyleModel",
            "_view_count": null,
            "_view_module": "@jupyter-widgets/base",
            "_view_module_version": "1.2.0",
            "_view_name": "StyleView",
            "description_width": ""
          }
        },
        "d92d3bb93aa14effb0a4084c2d3e506b": {
          "model_module": "@jupyter-widgets/base",
          "model_name": "LayoutModel",
          "model_module_version": "1.2.0",
          "state": {
            "_model_module": "@jupyter-widgets/base",
            "_model_module_version": "1.2.0",
            "_model_name": "LayoutModel",
            "_view_count": null,
            "_view_module": "@jupyter-widgets/base",
            "_view_module_version": "1.2.0",
            "_view_name": "LayoutView",
            "align_content": null,
            "align_items": null,
            "align_self": null,
            "border": null,
            "bottom": null,
            "display": null,
            "flex": null,
            "flex_flow": null,
            "grid_area": null,
            "grid_auto_columns": null,
            "grid_auto_flow": null,
            "grid_auto_rows": null,
            "grid_column": null,
            "grid_gap": null,
            "grid_row": null,
            "grid_template_areas": null,
            "grid_template_columns": null,
            "grid_template_rows": null,
            "height": null,
            "justify_content": null,
            "justify_items": null,
            "left": null,
            "margin": null,
            "max_height": null,
            "max_width": null,
            "min_height": null,
            "min_width": null,
            "object_fit": null,
            "object_position": null,
            "order": null,
            "overflow": null,
            "overflow_x": null,
            "overflow_y": null,
            "padding": null,
            "right": null,
            "top": null,
            "visibility": null,
            "width": null
          }
        },
        "64a146ced04f4dc0849021ce4d0f0ba8": {
          "model_module": "@jupyter-widgets/controls",
          "model_name": "VBoxModel",
          "model_module_version": "1.5.0",
          "state": {
            "_dom_classes": [
              "widget-interact"
            ],
            "_model_module": "@jupyter-widgets/controls",
            "_model_module_version": "1.5.0",
            "_model_name": "VBoxModel",
            "_view_count": null,
            "_view_module": "@jupyter-widgets/controls",
            "_view_module_version": "1.5.0",
            "_view_name": "VBoxView",
            "box_style": "",
            "children": [
              "IPY_MODEL_fc280046e1b040979662b89629143d94",
              "IPY_MODEL_544c88bf4d9644939f1eb8d7be088fd5"
            ],
            "layout": "IPY_MODEL_3ca9a9a09d7d489ca93ebfc5bfac6003"
          }
        },
        "fc280046e1b040979662b89629143d94": {
          "model_module": "@jupyter-widgets/controls",
          "model_name": "DropdownModel",
          "model_module_version": "1.5.0",
          "state": {
            "_dom_classes": [],
            "_model_module": "@jupyter-widgets/controls",
            "_model_module_version": "1.5.0",
            "_model_name": "DropdownModel",
            "_options_labels": [
              "Ammonia",
              "Nitrite",
              "Nitrate",
              "temperature",
              "ph",
              "humidity",
              "rainfall"
            ],
            "_view_count": null,
            "_view_module": "@jupyter-widgets/controls",
            "_view_module_version": "1.5.0",
            "_view_name": "DropdownView",
            "description": "conditions",
            "description_tooltip": null,
            "disabled": false,
            "index": 0,
            "layout": "IPY_MODEL_e107e48a01ee4266a93d7ec1f8fc856f",
            "style": "IPY_MODEL_344f345d223240269ddd87d3256dc30b"
          }
        },
        "544c88bf4d9644939f1eb8d7be088fd5": {
          "model_module": "@jupyter-widgets/output",
          "model_name": "OutputModel",
          "model_module_version": "1.0.0",
          "state": {
            "_dom_classes": [],
            "_model_module": "@jupyter-widgets/output",
            "_model_module_version": "1.0.0",
            "_model_name": "OutputModel",
            "_view_count": null,
            "_view_module": "@jupyter-widgets/output",
            "_view_module_version": "1.0.0",
            "_view_name": "OutputView",
            "layout": "IPY_MODEL_962d7191f0a54d6f8e0203fd49997a9a",
            "msg_id": "",
            "outputs": [
              {
                "output_type": "stream",
                "name": "stdout",
                "text": [
                  "Fishes which require GREATER than average Ammonia \n",
                  "\n",
                  "['Archerfish' 'Goldfish' 'Rosy Barb' 'Bluegills' 'Golden Rainbow Trout'\n",
                  " 'Largemouth Bass' 'Barramundi' 'Danios' 'Clown Loaches,' 'Bettas' 'Rams']\n",
                  "-----------------------------------------------------------------------------------\n",
                  "Fishes which require LESSER than average Ammonia \n",
                  "\n",
                  "['Rosy Barb' 'Sterlets' 'Rosy Red Minnows' 'Koi' 'Redears' 'Bluegills'\n",
                  " 'Fathead Minnows' 'Sticklebacks' 'Catfish' 'Tilapia' 'rosy red minnow'\n",
                  " 'pumpkinseed fish' 'Danios' 'Black Molly']\n"
                ]
              }
            ]
          }
        },
        "3ca9a9a09d7d489ca93ebfc5bfac6003": {
          "model_module": "@jupyter-widgets/base",
          "model_name": "LayoutModel",
          "model_module_version": "1.2.0",
          "state": {
            "_model_module": "@jupyter-widgets/base",
            "_model_module_version": "1.2.0",
            "_model_name": "LayoutModel",
            "_view_count": null,
            "_view_module": "@jupyter-widgets/base",
            "_view_module_version": "1.2.0",
            "_view_name": "LayoutView",
            "align_content": null,
            "align_items": null,
            "align_self": null,
            "border": null,
            "bottom": null,
            "display": null,
            "flex": null,
            "flex_flow": null,
            "grid_area": null,
            "grid_auto_columns": null,
            "grid_auto_flow": null,
            "grid_auto_rows": null,
            "grid_column": null,
            "grid_gap": null,
            "grid_row": null,
            "grid_template_areas": null,
            "grid_template_columns": null,
            "grid_template_rows": null,
            "height": null,
            "justify_content": null,
            "justify_items": null,
            "left": null,
            "margin": null,
            "max_height": null,
            "max_width": null,
            "min_height": null,
            "min_width": null,
            "object_fit": null,
            "object_position": null,
            "order": null,
            "overflow": null,
            "overflow_x": null,
            "overflow_y": null,
            "padding": null,
            "right": null,
            "top": null,
            "visibility": null,
            "width": null
          }
        },
        "e107e48a01ee4266a93d7ec1f8fc856f": {
          "model_module": "@jupyter-widgets/base",
          "model_name": "LayoutModel",
          "model_module_version": "1.2.0",
          "state": {
            "_model_module": "@jupyter-widgets/base",
            "_model_module_version": "1.2.0",
            "_model_name": "LayoutModel",
            "_view_count": null,
            "_view_module": "@jupyter-widgets/base",
            "_view_module_version": "1.2.0",
            "_view_name": "LayoutView",
            "align_content": null,
            "align_items": null,
            "align_self": null,
            "border": null,
            "bottom": null,
            "display": null,
            "flex": null,
            "flex_flow": null,
            "grid_area": null,
            "grid_auto_columns": null,
            "grid_auto_flow": null,
            "grid_auto_rows": null,
            "grid_column": null,
            "grid_gap": null,
            "grid_row": null,
            "grid_template_areas": null,
            "grid_template_columns": null,
            "grid_template_rows": null,
            "height": null,
            "justify_content": null,
            "justify_items": null,
            "left": null,
            "margin": null,
            "max_height": null,
            "max_width": null,
            "min_height": null,
            "min_width": null,
            "object_fit": null,
            "object_position": null,
            "order": null,
            "overflow": null,
            "overflow_x": null,
            "overflow_y": null,
            "padding": null,
            "right": null,
            "top": null,
            "visibility": null,
            "width": null
          }
        },
        "344f345d223240269ddd87d3256dc30b": {
          "model_module": "@jupyter-widgets/controls",
          "model_name": "DescriptionStyleModel",
          "model_module_version": "1.5.0",
          "state": {
            "_model_module": "@jupyter-widgets/controls",
            "_model_module_version": "1.5.0",
            "_model_name": "DescriptionStyleModel",
            "_view_count": null,
            "_view_module": "@jupyter-widgets/base",
            "_view_module_version": "1.2.0",
            "_view_name": "StyleView",
            "description_width": ""
          }
        },
        "962d7191f0a54d6f8e0203fd49997a9a": {
          "model_module": "@jupyter-widgets/base",
          "model_name": "LayoutModel",
          "model_module_version": "1.2.0",
          "state": {
            "_model_module": "@jupyter-widgets/base",
            "_model_module_version": "1.2.0",
            "_model_name": "LayoutModel",
            "_view_count": null,
            "_view_module": "@jupyter-widgets/base",
            "_view_module_version": "1.2.0",
            "_view_name": "LayoutView",
            "align_content": null,
            "align_items": null,
            "align_self": null,
            "border": null,
            "bottom": null,
            "display": null,
            "flex": null,
            "flex_flow": null,
            "grid_area": null,
            "grid_auto_columns": null,
            "grid_auto_flow": null,
            "grid_auto_rows": null,
            "grid_column": null,
            "grid_gap": null,
            "grid_row": null,
            "grid_template_areas": null,
            "grid_template_columns": null,
            "grid_template_rows": null,
            "height": null,
            "justify_content": null,
            "justify_items": null,
            "left": null,
            "margin": null,
            "max_height": null,
            "max_width": null,
            "min_height": null,
            "min_width": null,
            "object_fit": null,
            "object_position": null,
            "order": null,
            "overflow": null,
            "overflow_x": null,
            "overflow_y": null,
            "padding": null,
            "right": null,
            "top": null,
            "visibility": null,
            "width": null
          }
        }
      }
    }
  },
  "nbformat": 4,
  "nbformat_minor": 0
}